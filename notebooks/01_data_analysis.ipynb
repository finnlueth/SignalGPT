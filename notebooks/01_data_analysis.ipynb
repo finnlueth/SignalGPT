{
 "cells": [
  {
   "cell_type": "code",
   "execution_count": 1,
   "metadata": {},
   "outputs": [],
   "source": [
    "%load_ext autoreload\n",
    "%autoreload 2"
   ]
  },
  {
   "cell_type": "code",
   "execution_count": 3,
   "metadata": {},
   "outputs": [],
   "source": [
    "from src import (\n",
    "    config,\n",
    "    data,\n",
    "    utils)\n",
    "\n",
    "import src.config\n",
    "import os\n",
    "import pandas as pd\n",
    "import torch"
   ]
  },
  {
   "cell_type": "code",
   "execution_count": 3,
   "metadata": {},
   "outputs": [],
   "source": [
    "FILENAME = src.config.dataset_name\n",
    "ROOT = utils.get_project_root_path()\n",
    "VERBOSE = config.VERBOSE\n",
    "RAW_PATH = src.config.raw_dataset_path\n",
    "PROCESSED_PATH = src.config.processed_dataset_path"
   ]
  },
  {
   "cell_type": "code",
   "execution_count": 4,
   "metadata": {},
   "outputs": [],
   "source": [
    "df_data = src.data.process(src.data.parse_file(ROOT + '/data/raw/' + FILENAME))"
   ]
  },
  {
   "cell_type": "code",
   "execution_count": 5,
   "metadata": {},
   "outputs": [
    {
     "data": {
      "text/html": [
       "<div>\n",
       "<style scoped>\n",
       "    .dataframe tbody tr th:only-of-type {\n",
       "        vertical-align: middle;\n",
       "    }\n",
       "\n",
       "    .dataframe tbody tr th {\n",
       "        vertical-align: top;\n",
       "    }\n",
       "\n",
       "    .dataframe thead th {\n",
       "        text-align: right;\n",
       "    }\n",
       "</style>\n",
       "<table border=\"1\" class=\"dataframe\">\n",
       "  <thead>\n",
       "    <tr style=\"text-align: right;\">\n",
       "      <th></th>\n",
       "      <th>Uniprot_AC</th>\n",
       "      <th>Kingdom</th>\n",
       "      <th>Type</th>\n",
       "      <th>Partition_No</th>\n",
       "      <th>Sequence</th>\n",
       "      <th>Label</th>\n",
       "    </tr>\n",
       "  </thead>\n",
       "  <tbody>\n",
       "    <tr>\n",
       "      <th>0</th>\n",
       "      <td>Q8TF40</td>\n",
       "      <td>EUKARYA</td>\n",
       "      <td>NO_SP</td>\n",
       "      <td>0</td>\n",
       "      <td>&lt;AA2fold&gt; M A P T L F Q K L F S K R T G L G A ...</td>\n",
       "      <td>IIIIIIIIIIIIIIIIIIIIIIIIIIIIIIIIIIIIIIIIIIIIII...</td>\n",
       "    </tr>\n",
       "    <tr>\n",
       "      <th>1</th>\n",
       "      <td>Q1ENB6</td>\n",
       "      <td>EUKARYA</td>\n",
       "      <td>NO_SP</td>\n",
       "      <td>1</td>\n",
       "      <td>&lt;AA2fold&gt; M D F T S L E T T T F E E V V I A L ...</td>\n",
       "      <td>IIIIIIIIIIIIIIIIIIIIIIIIIIIIIIIIIIIIIIIIIIIIII...</td>\n",
       "    </tr>\n",
       "    <tr>\n",
       "      <th>2</th>\n",
       "      <td>P36001</td>\n",
       "      <td>EUKARYA</td>\n",
       "      <td>NO_SP</td>\n",
       "      <td>2</td>\n",
       "      <td>&lt;AA2fold&gt; M D D I S G R Q T L P R I N R L L E ...</td>\n",
       "      <td>IIIIIIIIIIIIIIIIIIIIIIIIIIIIIIIIIIIIIIIIIIIIII...</td>\n",
       "    </tr>\n",
       "    <tr>\n",
       "      <th>3</th>\n",
       "      <td>P55317</td>\n",
       "      <td>EUKARYA</td>\n",
       "      <td>NO_SP</td>\n",
       "      <td>0</td>\n",
       "      <td>&lt;AA2fold&gt; M L G T V K M E G H E T S D W N S Y ...</td>\n",
       "      <td>IIIIIIIIIIIIIIIIIIIIIIIIIIIIIIIIIIIIIIIIIIIIII...</td>\n",
       "    </tr>\n",
       "    <tr>\n",
       "      <th>4</th>\n",
       "      <td>P35583</td>\n",
       "      <td>EUKARYA</td>\n",
       "      <td>NO_SP</td>\n",
       "      <td>0</td>\n",
       "      <td>&lt;AA2fold&gt; M L G A V K M E G H E P S D W S S Y ...</td>\n",
       "      <td>IIIIIIIIIIIIIIIIIIIIIIIIIIIIIIIIIIIIIIIIIIIIII...</td>\n",
       "    </tr>\n",
       "    <tr>\n",
       "      <th>...</th>\n",
       "      <td>...</td>\n",
       "      <td>...</td>\n",
       "      <td>...</td>\n",
       "      <td>...</td>\n",
       "      <td>...</td>\n",
       "      <td>...</td>\n",
       "    </tr>\n",
       "    <tr>\n",
       "      <th>20285</th>\n",
       "      <td>P0AB09</td>\n",
       "      <td>NEGATIVE</td>\n",
       "      <td>TAT</td>\n",
       "      <td>0</td>\n",
       "      <td>&lt;AA2fold&gt; M D K F D A N R R K L L A L G G V A ...</td>\n",
       "      <td>TTTTTTTTTTTTTTTTTTTTTTTTTTTTTTOOOOOOOOOOOOOOOO...</td>\n",
       "    </tr>\n",
       "    <tr>\n",
       "      <th>20286</th>\n",
       "      <td>P0A5E2</td>\n",
       "      <td>POSITIVE</td>\n",
       "      <td>TAT</td>\n",
       "      <td>2</td>\n",
       "      <td>&lt;AA2fold&gt; M T T M I T L R R R F A V A V A G V ...</td>\n",
       "      <td>TTTTTTTTTTTTTTTTTTTTTTTTTTTTTTTTTTTOOOOOOOOOOO...</td>\n",
       "    </tr>\n",
       "    <tr>\n",
       "      <th>20287</th>\n",
       "      <td>P9WQP3</td>\n",
       "      <td>POSITIVE</td>\n",
       "      <td>TAT</td>\n",
       "      <td>1</td>\n",
       "      <td>&lt;AA2fold&gt; M Q L V D R V R G A V T G M S R R L ...</td>\n",
       "      <td>TTTTTTTTTTTTTTTTTTTTTTTTTTTTTTTTTTTTTTTTTTTOOO...</td>\n",
       "    </tr>\n",
       "    <tr>\n",
       "      <th>20288</th>\n",
       "      <td>P9WQP2</td>\n",
       "      <td>POSITIVE</td>\n",
       "      <td>TAT</td>\n",
       "      <td>1</td>\n",
       "      <td>&lt;AA2fold&gt; M Q L V D R V R G A V T G M S R R L ...</td>\n",
       "      <td>TTTTTTTTTTTTTTTTTTTTTTTTTTTTTTTTTTTTTTTTTTTOOO...</td>\n",
       "    </tr>\n",
       "    <tr>\n",
       "      <th>20289</th>\n",
       "      <td>B3GZ85</td>\n",
       "      <td>NEGATIVE</td>\n",
       "      <td>TAT</td>\n",
       "      <td>1</td>\n",
       "      <td>&lt;AA2fold&gt; M N R F T R Y D V T P E A I F N Q R ...</td>\n",
       "      <td>TTTTTTTTTTTTTTTTTTTTTTTTTTTTTTTTTTTTTTTTOOOOOO...</td>\n",
       "    </tr>\n",
       "  </tbody>\n",
       "</table>\n",
       "<p>20290 rows × 6 columns</p>\n",
       "</div>"
      ],
      "text/plain": [
       "      Uniprot_AC   Kingdom   Type  Partition_No  \\\n",
       "0         Q8TF40   EUKARYA  NO_SP             0   \n",
       "1         Q1ENB6   EUKARYA  NO_SP             1   \n",
       "2         P36001   EUKARYA  NO_SP             2   \n",
       "3         P55317   EUKARYA  NO_SP             0   \n",
       "4         P35583   EUKARYA  NO_SP             0   \n",
       "...          ...       ...    ...           ...   \n",
       "20285     P0AB09  NEGATIVE    TAT             0   \n",
       "20286     P0A5E2  POSITIVE    TAT             2   \n",
       "20287     P9WQP3  POSITIVE    TAT             1   \n",
       "20288     P9WQP2  POSITIVE    TAT             1   \n",
       "20289     B3GZ85  NEGATIVE    TAT             1   \n",
       "\n",
       "                                                Sequence  \\\n",
       "0      <AA2fold> M A P T L F Q K L F S K R T G L G A ...   \n",
       "1      <AA2fold> M D F T S L E T T T F E E V V I A L ...   \n",
       "2      <AA2fold> M D D I S G R Q T L P R I N R L L E ...   \n",
       "3      <AA2fold> M L G T V K M E G H E T S D W N S Y ...   \n",
       "4      <AA2fold> M L G A V K M E G H E P S D W S S Y ...   \n",
       "...                                                  ...   \n",
       "20285  <AA2fold> M D K F D A N R R K L L A L G G V A ...   \n",
       "20286  <AA2fold> M T T M I T L R R R F A V A V A G V ...   \n",
       "20287  <AA2fold> M Q L V D R V R G A V T G M S R R L ...   \n",
       "20288  <AA2fold> M Q L V D R V R G A V T G M S R R L ...   \n",
       "20289  <AA2fold> M N R F T R Y D V T P E A I F N Q R ...   \n",
       "\n",
       "                                                   Label  \n",
       "0      IIIIIIIIIIIIIIIIIIIIIIIIIIIIIIIIIIIIIIIIIIIIII...  \n",
       "1      IIIIIIIIIIIIIIIIIIIIIIIIIIIIIIIIIIIIIIIIIIIIII...  \n",
       "2      IIIIIIIIIIIIIIIIIIIIIIIIIIIIIIIIIIIIIIIIIIIIII...  \n",
       "3      IIIIIIIIIIIIIIIIIIIIIIIIIIIIIIIIIIIIIIIIIIIIII...  \n",
       "4      IIIIIIIIIIIIIIIIIIIIIIIIIIIIIIIIIIIIIIIIIIIIII...  \n",
       "...                                                  ...  \n",
       "20285  TTTTTTTTTTTTTTTTTTTTTTTTTTTTTTOOOOOOOOOOOOOOOO...  \n",
       "20286  TTTTTTTTTTTTTTTTTTTTTTTTTTTTTTTTTTTOOOOOOOOOOO...  \n",
       "20287  TTTTTTTTTTTTTTTTTTTTTTTTTTTTTTTTTTTTTTTTTTTOOO...  \n",
       "20288  TTTTTTTTTTTTTTTTTTTTTTTTTTTTTTTTTTTTTTTTTTTOOO...  \n",
       "20289  TTTTTTTTTTTTTTTTTTTTTTTTTTTTTTTTTTTTTTTTOOOOOO...  \n",
       "\n",
       "[20290 rows x 6 columns]"
      ]
     },
     "execution_count": 5,
     "metadata": {},
     "output_type": "execute_result"
    }
   ],
   "source": [
    "df_data"
   ]
  },
  {
   "cell_type": "code",
   "execution_count": 6,
   "metadata": {},
   "outputs": [
    {
     "data": {
      "text/plain": [
       "Partition_No\n",
       "1    7392\n",
       "2    7002\n",
       "0    5896\n",
       "Name: count, dtype: int64"
      ]
     },
     "execution_count": 6,
     "metadata": {},
     "output_type": "execute_result"
    }
   ],
   "source": [
    "df_data['Partition_No'].value_counts()"
   ]
  },
  {
   "cell_type": "code",
   "execution_count": 7,
   "metadata": {},
   "outputs": [
    {
     "data": {
      "text/plain": [
       "Type\n",
       "NO_SP      15625\n",
       "SP          2582\n",
       "LIPO        1615\n",
       "TAT          365\n",
       "PILIN         70\n",
       "TATLIPO       33\n",
       "Name: count, dtype: int64"
      ]
     },
     "execution_count": 7,
     "metadata": {},
     "output_type": "execute_result"
    }
   ],
   "source": [
    "df_data['Type'].value_counts()"
   ]
  },
  {
   "cell_type": "code",
   "execution_count": null,
   "metadata": {},
   "outputs": [],
   "source": [
    "x = df_data[df_data['Type'] == 'PILIN']\n",
    "unique_chars = pd.DataFrame(list(''.join(x['Label'].to_list()))).value_counts()\n",
    "unique_chars\n"
   ]
  },
  {
   "cell_type": "code",
   "execution_count": 1,
   "metadata": {},
   "outputs": [],
   "source": [
    "import numpy as np\n",
    "from sklearn.metrics import matthews_corrcoef, recall_score, precision_score, confusion_matrix, f1_score"
   ]
  },
  {
   "cell_type": "code",
   "execution_count": 2,
   "metadata": {},
   "outputs": [],
   "source": [
    "def compute_mcc(true_labels: np.ndarray, pred_labels: np.ndarray, label_positive=1):\n",
    "    \"\"\"Compute MCC. binarize to true/false, according to label specified.\n",
    "    For MCC1, subset data before calling this function\"\"\"\n",
    "    # binarize everything\n",
    "    true_labels = [1 if x == label_positive else 0 for x in true_labels]\n",
    "    pred_labels = [1 if x == label_positive else 0 for x in pred_labels]\n",
    "\n",
    "    return matthews_corrcoef(true_labels, pred_labels)"
   ]
  },
  {
   "cell_type": "code",
   "execution_count": 4,
   "metadata": {},
   "outputs": [
    {
     "name": "stdout",
     "output_type": "stream",
     "text": [
      "0.0\n",
      "-1.0\n",
      "1.0\n",
      "0.6324555320336759\n"
     ]
    },
    {
     "name": "stderr",
     "output_type": "stream",
     "text": [
      "/Users/finnlueth/Developer/gits/SignalGPT/.venv/lib/python3.11/site-packages/sklearn/metrics/_classification.py:386: UserWarning: A single label was found in 'y_true' and 'y_pred'. For the confusion matrix to have the correct shape, use the 'labels' parameter to pass all known labels.\n",
      "  warnings.warn(\n"
     ]
    }
   ],
   "source": [
    "print(compute_mcc(np.array([1, 1, 1, 1, 1, 1]), np.array([1, 1, 1, 1, 1, 1]), 1))\n",
    "print(compute_mcc(np.array([0, 0, 0, 0, 1, 1]), np.array([1, 1, 1, 1, 0, 0]), 1))\n",
    "print(compute_mcc(np.array([1, 1, 1, 1, 0, 0]), np.array([1, 1, 1, 1, 0, 0]), 1))\n",
    "print(compute_mcc(np.array([1, 1, 1, 1, 1, 0]), np.array([1, 1, 1, 1, 0, 0]), 1))"
   ]
  },
  {
   "cell_type": "code",
   "execution_count": 44,
   "metadata": {},
   "outputs": [
    {
     "name": "stdout",
     "output_type": "stream",
     "text": [
      "0.0\n",
      "0.35043832202523123\n",
      "0.0\n"
     ]
    }
   ],
   "source": [
    "print(matthews_corrcoef(\n",
    "    y_pred=np.array([1, 1, 1, 1, 1, 1, 1, 1, 1, 1, 1, 1, 1, 1, 1, 1, 0, 0, 0, 1]),\n",
    "    y_true=np.array([1, 1, 1, 1, 1, 1, 1, 1, 1, 1, 1, 1, 1, 1, 1, 1, 1, 1, 1, 1])\n",
    "    ))\n",
    "print(matthews_corrcoef(\n",
    "    y_pred=np.array([1, 1, 1, 1, 1, 1, 1, 1, 1, 1, 1, 0, 0, 0, 1, 1, 0, 0, 0, 1]),\n",
    "    y_true=np.array([1, 1, 1, 1, 1, 1, 1, 1, 1, 1, 1, 0, 1, 1, 1, 1, 1, 1, 1, 1])\n",
    "    ))\n",
    "print(matthews_corrcoef(\n",
    "    y_pred=np.array([1, 1, 1, 1, 1, 1, 1, 1, 1, 1, 1, 1, 1, 1, 1, 1, 1, 1, 1, 1]),\n",
    "    y_true=np.array([1, 1, 1, 1, 1, 1, 1, 1, 1, 1, 1, 0, 1, 1, 1, 1, 1, 1, 1, 1])\n",
    "    ))"
   ]
  },
  {
   "cell_type": "code",
   "execution_count": 53,
   "metadata": {},
   "outputs": [
    {
     "name": "stdout",
     "output_type": "stream",
     "text": [
      "1.0\n",
      "0.0\n"
     ]
    },
    {
     "name": "stderr",
     "output_type": "stream",
     "text": [
      "/Users/finnlueth/Developer/gits/SignalGPT/.venv/lib/python3.11/site-packages/sklearn/metrics/_classification.py:386: UserWarning: A single label was found in 'y_true' and 'y_pred'. For the confusion matrix to have the correct shape, use the 'labels' parameter to pass all known labels.\n",
      "  warnings.warn(\n"
     ]
    }
   ],
   "source": [
    "print(matthews_corrcoef(\n",
    "    y_pred=np.array([x for x in \"IIIIIIIIIIIIIIMMMMMMMMMMMMMMMMOOOOOOOOOOOOOOOOMMMMMMMMMMMMMMMMMIIIIIII\"]),\n",
    "    y_true=np.array([x for x in \"IIIIIIIIIIIIIIMMMMMMMMMMMMMMMMOOOOOOOOOOOOOOOOMMMMMMMMMMMMMMMMMIIIIIII\"])\n",
    "    ))\n",
    "print(matthews_corrcoef(\n",
    "    y_pred=np.array([x for x in \"IIIIIIIIIIIIIIIIIIIIIIIIIIIIIIIIIIIIIIIIIIIIIIIIIIIIIIIIIIIIIIIIIIIIII\"]),\n",
    "    y_true=np.array([x for x in \"IIIIIIIIIIIIIIIIIIIIIIIIIIIIIIIIIIIIIIIIIIIIIIIIIIIIIIIIIIIIIIIIIIIIII\"])\n",
    "    ))\n"
   ]
  },
  {
   "cell_type": "code",
   "execution_count": null,
   "metadata": {},
   "outputs": [],
   "source": [
    "import src.model"
   ]
  },
  {
   "cell_type": "code",
   "execution_count": null,
   "metadata": {},
   "outputs": [],
   "source": [
    "# truth = [x for x in \"IIIIIIIIIIIIIIIIIIIIIIIIIIIIIIIIIIIIIOIIIOIIII\"]\n",
    "# preds = [x for x in \"IIIIIIIIIIIIIIIIIIIIIIIIIIIIOIIIIIIIIOIIIIIIII\"]\n",
    "truth = [x for x in \"IIIIIIIIIIIIIIIIIIIIIIIIIIIIIIIIIIIIIIIIIIIIII\"]\n",
    "preds = [x for x in \"IIIIIIIIIIIIIIIIIIIIIIIIIIIIIIIIIIIIIIIIIIIIII\"]\n",
    "print(*truth)\n",
    "print(*preds)\n",
    "enc_truth = src.model.one_vs_all_encoding(truth, 'I')\n",
    "enc_preds = src.model.one_vs_all_encoding(preds, 'I')\n",
    "print(*enc_truth)\n",
    "print(*enc_preds)"
   ]
  },
  {
   "cell_type": "code",
   "execution_count": null,
   "metadata": {},
   "outputs": [],
   "source": [
    "print(compute_mcc(enc_truth, enc_preds))"
   ]
  },
  {
   "cell_type": "code",
   "execution_count": null,
   "metadata": {},
   "outputs": [],
   "source": [
    "confusion_matrix(enc_truth, enc_preds, labels=[0, 1])"
   ]
  },
  {
   "cell_type": "markdown",
   "metadata": {},
   "source": [
    "---"
   ]
  },
  {
   "cell_type": "code",
   "execution_count": 8,
   "metadata": {},
   "outputs": [],
   "source": [
    "# Didn't even need this :(\n",
    "def remove_adjacent_duplicates(s):\n",
    "    stack = []\n",
    "    for i, c in enumerate(s):\n",
    "        if not i+1 == len(s) and s[i+1] == c:\n",
    "            pass\n",
    "        else:\n",
    "            stack.append(c)\n",
    "    return ''.join(stack)"
   ]
  },
  {
   "cell_type": "code",
   "execution_count": 9,
   "metadata": {},
   "outputs": [],
   "source": [
    "res = df_data['Label'].apply(lambda x: remove_adjacent_duplicates(x))"
   ]
  },
  {
   "cell_type": "code",
   "execution_count": 10,
   "metadata": {},
   "outputs": [
    {
     "data": {
      "text/plain": [
       "array(['I', 'SO', 'SOMI', 'SOM', 'OMIM', 'IMO', 'OMI', 'IM', 'IMOMIM',\n",
       "       'IMOM', 'OM', 'IMOMI', 'OMIMO', 'OMIMOM', 'TO', 'LO', 'LOMI',\n",
       "       'LOM', 'LOMIM', 'LOMIMO', 'SOMIM', 'SOMIMOM', 'SOMIMOMI', 'SOMIMO',\n",
       "       'IMOMIMO', 'POMO', 'OMIMOMI'], dtype=object)"
      ]
     },
     "execution_count": 10,
     "metadata": {},
     "output_type": "execute_result"
    }
   ],
   "source": [
    "res.unique()"
   ]
  },
  {
   "cell_type": "code",
   "execution_count": 13,
   "metadata": {},
   "outputs": [
    {
     "data": {
      "text/plain": [
       "({'I', 'L', 'O', 'P', 'S', 'T'}, {'I', 'M', 'O'})"
      ]
     },
     "execution_count": 13,
     "metadata": {},
     "output_type": "execute_result"
    }
   ],
   "source": [
    "start_of_seq_tags = {x[0] for x in df_data['Label'].unique()}\n",
    "end_of_seq_tags = {x[-1] for x in df_data['Label'].unique()}\n",
    "start_of_seq_tags, end_of_seq_tags"
   ]
  },
  {
   "cell_type": "code",
   "execution_count": 25,
   "metadata": {},
   "outputs": [
    {
     "name": "stdout",
     "output_type": "stream",
     "text": [
      "[('I', 'I'), ('I', 'M'), ('L', 'L'), ('L', 'O'), ('M', 'I'), ('M', 'M'), ('M', 'O'), ('O', 'M'), ('O', 'O'), ('P', 'O'), ('P', 'P'), ('S', 'O'), ('S', 'S'), ('T', 'O'), ('T', 'T'), ('<START>', 'I'), ('<START>', 'L'), ('<START>', 'O'), ('<START>', 'P'), ('<START>', 'S'), ('<START>', 'T'), ('I', '<END>'), ('M', '<END>'), ('O', '<END>')]\n"
     ]
    }
   ],
   "source": [
    "\n",
    "def get_transitions_list(df):\n",
    "    words = df['Label'].unique()\n",
    "    transitions = set()\n",
    "    \n",
    "    for word in words:\n",
    "        for i in range(len(word) - 1):\n",
    "            transitions.add((word[i], word[i+1]))\n",
    "\n",
    "    transitions_list = sorted(list(transitions))\n",
    "    \n",
    "    start_of_seq_tags = sorted(list({x[0] for x in df['Label'].unique()}))\n",
    "    end_of_seq_tags = sorted(list({x[-1] for x in df['Label'].unique()}))\n",
    "    \n",
    "    for x in start_of_seq_tags:\n",
    "        transitions_list.append(('<START>', x))\n",
    "    for x in end_of_seq_tags:\n",
    "        transitions_list.append((x, '<END>'))\n",
    "\n",
    "    return transitions_list\n",
    "\n",
    "transitions_list = get_transitions_list(df_data)\n",
    "print(transitions_list)"
   ]
  },
  {
   "cell_type": "code",
   "execution_count": 27,
   "metadata": {},
   "outputs": [
    {
     "data": {
      "text/plain": [
       "[('I', 'I'),\n",
       " ('I', 'M'),\n",
       " ('L', 'L'),\n",
       " ('L', 'O'),\n",
       " ('M', 'I'),\n",
       " ('M', 'M'),\n",
       " ('M', 'O'),\n",
       " ('O', 'M'),\n",
       " ('O', 'O'),\n",
       " ('P', 'O'),\n",
       " ('P', 'P'),\n",
       " ('S', 'O'),\n",
       " ('S', 'S'),\n",
       " ('T', 'O'),\n",
       " ('T', 'T')]"
      ]
     },
     "execution_count": 27,
     "metadata": {},
     "output_type": "execute_result"
    }
   ],
   "source": [
    "allowed_transitions = sorted([('I', 'I'), ('M', 'O'), ('P', 'P'), ('T', 'T'), ('S', 'S'), ('O', 'O'), ('M', 'M'), ('S', 'O'), ('T', 'O'), ('L', 'L'), ('I', 'M'), ('M', 'I'), ('L', 'O'), ('P', 'O'), ('O', 'M')])\n",
    "allowed_transitions"
   ]
  },
  {
   "cell_type": "code",
   "execution_count": null,
   "metadata": {},
   "outputs": [],
   "source": [
    "len(transitions_list)"
   ]
  },
  {
   "cell_type": "code",
   "execution_count": 37,
   "metadata": {},
   "outputs": [
    {
     "data": {
      "text/plain": [
       "6"
      ]
     },
     "execution_count": 37,
     "metadata": {},
     "output_type": "execute_result"
    }
   ],
   "source": [
    "max(src.config.label_decoding.keys())"
   ]
  },
  {
   "cell_type": "code",
   "execution_count": 38,
   "metadata": {},
   "outputs": [
    {
     "data": {
      "text/plain": [
       "[(0, 0),\n",
       " (0, 2),\n",
       " (1, 1),\n",
       " (1, 3),\n",
       " (2, 0),\n",
       " (2, 2),\n",
       " (2, 3),\n",
       " (3, 2),\n",
       " (3, 3),\n",
       " (6, 3),\n",
       " (6, 6),\n",
       " (4, 3),\n",
       " (4, 4),\n",
       " (5, 3),\n",
       " (5, 5),\n",
       " (7, 0),\n",
       " (7, 1),\n",
       " (7, 3),\n",
       " (7, 6),\n",
       " (7, 4),\n",
       " (7, 5),\n",
       " (0, 8),\n",
       " (2, 8),\n",
       " (3, 8)]"
      ]
     },
     "execution_count": 38,
     "metadata": {},
     "output_type": "execute_result"
    }
   ],
   "source": [
    "src.config.allowed_transitions_encoded"
   ]
  },
  {
   "cell_type": "code",
   "execution_count": 8,
   "metadata": {},
   "outputs": [],
   "source": [
    "# Compute Transitions for BIO scheme"
   ]
  },
  {
   "cell_type": "markdown",
   "metadata": {},
   "source": [
    "---"
   ]
  },
  {
   "cell_type": "code",
   "execution_count": 40,
   "metadata": {},
   "outputs": [
    {
     "name": "stdout",
     "output_type": "stream",
     "text": [
      "19,\t17,\t13,\t6,\t16,\t16,\t13,\t3,\t16,\t20,\t14,\t22,\t13,\t3,\t7,\t7,\t4,\t17,\t13,\t13,\t20,\t13,\t14,\t8,\t3,\t16,\t9,\t3,\t13,\t10,\t19,\t5,\t4,\t18,\t22,\t10,\t17,\t15,\t19,\t18,\t16,\t16,\t20,\t17,\t4,\t20,\t13,\t7,\t20,\t1,\t0,\t0,\t0,\t0,\t0,\t0,\t0,\t0,\t0,\t0,\t0,\t0,\t0,\t0,\t0,\t0,\t0,\t12\n",
      "0,\t0,\t0,\t0,\t0,\t0,\t0,\t0,\t0,\t0,\t0,\t0,\t0,\t0,\t0,\t0,\t0,\t0,\t0,\t0,\t0,\t0,\t0,\t0,\t0,\t0,\t0,\t0,\t0,\t0,\t0,\t0,\t0,\t0,\t0,\t0,\t0,\t0,\t0,\t0,\t0,\t0,\t0,\t0,\t0,\t0,\t0,\t0,\t0,\t-1,\t-1,\t-1,\t-1,\t-1,\t-1,\t-1,\t-1,\t-1,\t-1,\t-1,\t-1,\t-1,\t-1,\t-1,\t-1,\t-1,\t-1,\t-1,\t-1,\t-1\n"
     ]
    }
   ],
   "source": [
    "inputs_ids = [149,19, 17, 13, 6,  16, 16, 13, 3,  16, 20, 14, 22, 13, 3,  7,  7,  4,  17, 13, 13, 20, 13, 14, 8,  3, 16,  9,  3,  13, 10, 19, 5,  4,  18, 22, 10, 17, 15, 19, 18, 16, 16, 20, 17, 4,  20, 13, 7,  20, 1,  0,  0,  0,  0,  0,  0,  0,  0,  0,  0,  0,  0,  0,  0,  0,  0,  0,  12,  0]\n",
    "mask = [1,  1,  1,  1,  1,  1,  1,  1,  1,  1,  1,  1,  1,  1,  1,  1,  1,  1,  1,  1,  1,  1,  1,  1,  1,  1,  1,  1,  1,  1,  1,  1,  1,  1,  1,  1,  1,  1,  1,  1,  1,  1,  1,  1,  1,  1,  1,  1,  1,  1,  1,  0,  0,  0,  0,  0,  0,  0,  0,  0,  0,  0,  0,  0,  0,  0,  0,  0,  0,  0,  0,  0]\n",
    "labels = [0,  0,  0,  0,  0,  0,  0,  0,  0,  0,  0,  0,  0,  0,  0,  0,  0,  0,  0,  0,  0,  0,  0,  0,  0,  0,  0,  0,  0,  0,  0,  0,  0,  0,  0,  0,  0,  0,  0,  0,  0,  0,  0,  0,  0,  0,  0,  0,  0,  -1,  -1,  -1,  -1,  -1,  -1,  -1,  -1,  -1,  -1,  -1,  -1,  -1,  -1,  -1,  -1,  -1,  -1,  -1,  -1,  -1,  -1,  -1]\n",
    "logits: torch.rand([3, 72, 7])\n",
    "\n",
    "# print(*mask[1:-1], sep=',\\t')\n",
    "print(*inputs_ids[1:-1], sep=',\\t')\n",
    "print(*labels[:-2], sep=',\\t')"
   ]
  },
  {
   "cell_type": "code",
   "execution_count": 41,
   "metadata": {},
   "outputs": [
    {
     "data": {
      "text/plain": [
       "70"
      ]
     },
     "execution_count": 41,
     "metadata": {},
     "output_type": "execute_result"
    }
   ],
   "source": [
    "len(inputs_ids)"
   ]
  },
  {
   "cell_type": "code",
   "execution_count": 40,
   "metadata": {},
   "outputs": [
    {
     "name": "stdout",
     "output_type": "stream",
     "text": [
      "  19  17  13   6  16  16  13   3  16  20  14  22  13   3   7   7   4  17  13  13  20  13  14   8   3  16   9   3  13  10  19   5   4  18  22  10  17  15  19  18  16  16  20  17   4  20  13   7  20   0   0   0   0   0   0   0   0   0   0   0   0   0   0   0   0   0   0   0   0   0\n",
      "   1   1   1   1   1   1   1   1   1   1   1   1   1   1   1   1   1   1   1   1   1   1   1   1   1   1   1   1   1   1   1   1   1   1   1   1   1   1   1   1   1   1   1   1   1   1   1   1   1   0   0   0   0   0   0   0   0   0   0   0   0   0   0   0   0   0   0   0   0   0\n",
      "   0   0   0   0   0   0   0   0   0   0   0   0   0   0   0   0   0   0   0   0   0   0   0   0   0   0   0   0   0   0   0   0   0   0   0   0   0   0   0   0   0   0   0   0   0   0   0   0   0  -1  -1  -1  -1  -1  -1  -1  -1  -1  -1  -1  -1  -1  -1  -1  -1  -1  -1  -1  -1  -1\n",
      "\n",
      "  19   7   7  11   4  18   8   8  16   4   4  14   4   4   5  19   7   6   4   5  11   7  15   7   7  22   6  11   7  13   3   8   3  14  11   6  17  21   5  18  12   5  14   6   5  13   9  20  21   5   9   4   7  13  10  15   3   4  22  16  12   5   8  14  16  11  13  12  10   4\n",
      "   1   1   1   1   1   1   1   1   1   1   1   1   1   1   1   1   1   1   1   1   1   1   1   1   1   1   1   1   1   1   1   1   1   1   1   1   1   1   1   1   1   1   1   1   1   1   1   1   1   1   1   1   1   1   1   1   1   1   1   1   1   1   1   1   1   1   1   1   1   1\n",
      "   5   5   5   5   5   5   5   5   5   5   5   5   5   5   5   5   5   5   5   5   5   5   5   5   5   3   3   3   3   3   3   3   3   3   3   3   3   3   3   3   3   3   3   3   3   3   3   3   3   3   3   3   3   3   3   3   3   3   3   3   3   3   3   3   3   3   3   3   3   3\n"
     ]
    }
   ],
   "source": [
    "import pandas as pd\n",
    "\n",
    "inputs0 = torch.tensor([149,  19,  17,  13,   6,  16,  16,  13,   3,  16,  20,  14,  22,  13,\n",
    "           3,   7,   7,   4,  17,  13,  13,  20,  13,  14,   8,   3,  16,   9,\n",
    "           3,  13,  10,  19,   5,   4,  18,  22,  10,  17,  15,  19,  18,  16,\n",
    "          16,  20,  17,   4,  20,  13,   7,  20,   1,   0,   0,   0,   0,   0,\n",
    "           0,   0,   0,   0,   0,   0,   0,   0,   0,   0,   0,   0,   0,   0,\n",
    "           0,   0])\n",
    "mask0 = torch.tensor([1, 1, 1, 1, 1, 1, 1, 1, 1, 1, 1, 1, 1, 1, 1, 1, 1, 1, 1, 1, 1, 1, 1, 1,\n",
    "         1, 1, 1, 1, 1, 1, 1, 1, 1, 1, 1, 1, 1, 1, 1, 1, 1, 1, 1, 1, 1, 1, 1, 1,\n",
    "         1, 1, 1, 0, 0, 0, 0, 0, 0, 0, 0, 0, 0, 0, 0, 0, 0, 0, 0, 0, 0, 0, 0, 0])\n",
    "labels0 = torch.tensor([   0,    0,    0,    0,    0,    0,    0,    0,    0,    0,    0,    0,\n",
    "            0,    0,    0,    0,    0,    0,    0,    0,    0,    0,    0,    0,\n",
    "            0,    0,    0,    0,    0,    0,    0,    0,    0,    0,    0,    0,\n",
    "            0,    0,    0,    0,    0,    0,    0,    0,    0,    0,    0,    0,\n",
    "            0, -100, -100, -100, -100, -100, -100, -100, -100, -100, -100, -100,\n",
    "         -100, -100, -100, -100, -100, -100, -100, -100, -100, -100, -100, -100])\n",
    "\n",
    "# inputs1 = [149,19, 11, 11, 4,  17, 8,  7,  9,  4,  4,  15, 6,  18, 10, 3,  16, 10, 22, 17, 13, 17, 5,  17, 13, 12, 5,  10, 17, 8,  13, 8,  8,  10, 13, 10, 11, 5,  16, 5,  12, 12, 11, 10, 6,  8,  4,  14, 8,  18, 4,  8,  10, 16, 4,  16, 10, 10, 5,  15, 10, 12, 18, 6,  14, 14, 11, 9,  5,  8,  7,  1]\n",
    "\n",
    "inputs2 = torch.tensor([149,  19,   7,   7,  11,   4,  18,   8,   8,  16,   4,   4,  14,   4,\n",
    "           4,   5,  19,   7,   6,   4,   5,  11,   7,  15,   7,   7,  22,   6,\n",
    "          11,   7,  13,   3,   8,   3,  14,  11,   6,  17,  21,   5,  18,  12,\n",
    "           5,  14,   6,   5,  13,   9,  20,  21,   5,   9,   4,   7,  13,  10,\n",
    "          15,   3,   4,  22,  16,  12,   5,   8,  14,  16,  11,  13,  12,  10,\n",
    "           4,   1])\n",
    "mask2 = torch.tensor([1, 1, 1, 1, 1, 1, 1, 1, 1, 1, 1, 1, 1, 1, 1, 1, 1, 1, 1, 1, 1, 1, 1, 1,\n",
    "         1, 1, 1, 1, 1, 1, 1, 1, 1, 1, 1, 1, 1, 1, 1, 1, 1, 1, 1, 1, 1, 1, 1, 1,\n",
    "         1, 1, 1, 1, 1, 1, 1, 1, 1, 1, 1, 1, 1, 1, 1, 1, 1, 1, 1, 1, 1, 1, 1, 1])\n",
    "labels2 = torch.tensor([   5,    5,    5,    5,    5,    5,    5,    5,    5,    5,    5,    5,\n",
    "            5,    5,    5,    5,    5,    5,    5,    5,    5,    5,    5,    5,\n",
    "            5,    3,    3,    3,    3,    3,    3,    3,    3,    3,    3,    3,\n",
    "            3,    3,    3,    3,    3,    3,    3,    3,    3,    3,    3,    3,\n",
    "            3,    3,    3,    3,    3,    3,    3,    3,    3,    3,    3,    3,\n",
    "            3,    3,    3,    3,    3,    3,    3,    3,    3,    3, -100, -100])\n",
    "\n",
    "# print(('{:>4}'*len(inputs0)).format(*inputs0))\n",
    "# print()\n",
    "\n",
    "labels0 = torch.where(labels0 == -100, torch.tensor(-1), labels0)\n",
    "labels2 = torch.where(labels2 == -100, torch.tensor(-1), labels2)\n",
    "\n",
    "\n",
    "inputs0 = inputs0[1:-1]\n",
    "inputs2 = inputs2[1:-1]\n",
    "\n",
    "mask0 = mask0[1:-1]\n",
    "mask2 = mask2[1:-1]\n",
    "\n",
    "labels0 = labels0[:-2]\n",
    "labels2 = labels2[:-2]\n",
    "\n",
    "inputs0 = inputs0 * (labels0 != -1)\n",
    "inputs2 = inputs2 * (labels2 != -1)\n",
    "\n",
    "mask0 = mask0 * (labels0 != -1)\n",
    "mask2 = mask2 * (labels2 != -1)\n",
    "\n",
    "\n",
    "\n",
    "print(('{:>4}'*len(inputs0)).format(*inputs0))\n",
    "print(('{:>4}'*len(mask0)).format(*mask0))\n",
    "print(('{:>4}'*len(labels0)).format(*labels0))\n",
    "print()\n",
    "print(('{:>4}'*len(inputs2)).format(*inputs2))\n",
    "print(('{:>4}'*len(mask2)).format(*mask2))\n",
    "print(('{:>4}'*len(labels2)).format(*labels2))\n",
    "# print('{:>2}'.format(*Mask))\n"
   ]
  },
  {
   "cell_type": "code",
   "execution_count": 38,
   "metadata": {},
   "outputs": [
    {
     "data": {
      "text/plain": [
       "tensor(21)"
      ]
     },
     "execution_count": 38,
     "metadata": {},
     "output_type": "execute_result"
    }
   ],
   "source": [
    "(labels0 == -1).sum()"
   ]
  },
  {
   "cell_type": "code",
   "execution_count": null,
   "metadata": {},
   "outputs": [],
   "source": [
    "# Calculate the number of last items to set to 0\n",
    "num_zeros = (mask0 == 0).sum()\n",
    "\n",
    "# Set the last num_zeros items of inputs0 to 0\n",
    "inputs0[-num_zeros:] = 0"
   ]
  }
 ],
 "metadata": {
  "kernelspec": {
   "display_name": ".venv",
   "language": "python",
   "name": "python3"
  },
  "language_info": {
   "codemirror_mode": {
    "name": "ipython",
    "version": 3
   },
   "file_extension": ".py",
   "mimetype": "text/x-python",
   "name": "python",
   "nbconvert_exporter": "python",
   "pygments_lexer": "ipython3",
   "version": "3.11.6"
  }
 },
 "nbformat": 4,
 "nbformat_minor": 2
}
