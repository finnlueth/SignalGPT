{
 "cells": [
  {
   "cell_type": "code",
   "execution_count": 1,
   "metadata": {},
   "outputs": [],
   "source": [
    "%load_ext autoreload\n",
    "%autoreload 2"
   ]
  },
  {
   "cell_type": "code",
   "execution_count": 2,
   "metadata": {},
   "outputs": [],
   "source": [
    "import src.config as model_config\n",
    "from src.utils import get_project_root_path\n",
    "import src.data\n",
    "import src.metrics\n",
    "import src.plot\n",
    "\n",
    "from src.model import (\n",
    "    ProstT5EncoderModelForSequenceClassification,\n",
    "    ProstT5EncoderModelTokenClassificationCRF,\n",
    "    ProstT5EncoderModelTokenClassificationLinear,\n",
    "    ProtT5EncoderModelForSequenceClassification,\n",
    "    ProtT5EncoderModelTokenClassificationCRF,\n",
    "    ProtT5EncoderModelTokenClassificationLinear,\n",
    ")\n",
    "\n",
    "import gc\n",
    "import random\n",
    "import tqdm\n",
    "\n",
    "import torch\n",
    "import torch.nn as nn\n",
    "import pandas as pd\n",
    "import numpy as np\n",
    "import matplotlib.pyplot as plt\n",
    "\n",
    "from transformers import (\n",
    "    T5Tokenizer,\n",
    "    DataCollatorForTokenClassification,\n",
    "    TrainingArguments,\n",
    "    Trainer,\n",
    "    TrainerCallback,\n",
    "    set_seed\n",
    ")\n",
    "\n",
    "import peft\n",
    "from peft import (\n",
    "    LoraConfig,\n",
    ")"
   ]
  },
  {
   "cell_type": "code",
   "execution_count": 3,
   "metadata": {},
   "outputs": [
    {
     "name": "stdout",
     "output_type": "stream",
     "text": [
      "Base Model:\t Rostlab/prot_t5_xl_uniref50\n",
      "MPS Availible:\t True\n",
      "Path:\t\t /Users/finnlueth/Developer/gits/SignalGPT\n",
      "Using device:\t mps\n"
     ]
    }
   ],
   "source": [
    "ROOT = get_project_root_path()\n",
    "device = torch.device('cuda:0' if torch.cuda.is_available() else ('mps' if torch.backends.mps.is_available() else 'cpu'))\n",
    "\n",
    "EXPERT = model_config.selected_expert\n",
    "MODEL_VERRSION = model_config.model_version\n",
    "\n",
    "adapter_location = f'/models/moe_v{MODEL_VERRSION}_CRF_expert_{EXPERT}'\n",
    "\n",
    "SEED = model_config.seed\n",
    "torch.manual_seed(SEED)\n",
    "random.seed(SEED)\n",
    "np.random.seed(SEED)\n",
    "set_seed(SEED)\n",
    "\n",
    "print(\"Base Model:\\t\", model_config.base_model_name)\n",
    "print(\"MPS Availible:\\t\", torch.backends.mps.is_available())\n",
    "print(\"Path:\\t\\t\", ROOT)\n",
    "print(f\"Using device:\\t {device}\")"
   ]
  },
  {
   "cell_type": "code",
   "execution_count": 4,
   "metadata": {},
   "outputs": [],
   "source": [
    "t5_tokenizer = T5Tokenizer.from_pretrained(\n",
    "    pretrained_model_name_or_path=model_config.base_model_name,\n",
    "    do_lower_case=False,\n",
    "    use_fast=True,\n",
    "    legacy=False,\n",
    ")"
   ]
  },
  {
   "cell_type": "code",
   "execution_count": 5,
   "metadata": {},
   "outputs": [
    {
     "name": "stdout",
     "output_type": "stream",
     "text": [
      "ALL\n",
      "DatasetDict({\n",
      "    train: Dataset({\n",
      "        features: ['input_ids', 'attention_mask', 'labels'],\n",
      "        num_rows: 13288\n",
      "    })\n",
      "    valid: Dataset({\n",
      "        features: ['input_ids', 'attention_mask', 'labels'],\n",
      "        num_rows: 7002\n",
      "    })\n",
      "})\n"
     ]
    }
   ],
   "source": [
    "FASTA_FILENAME = model_config.dataset_name\n",
    "# FASTA_FILENAME = '6_SignalP_6.0_Training_set_testing.fasta'\n",
    "annotations_name = ['Label'] #+ ['Type'] # Choose Type or Label\n",
    "\n",
    "df_data = src.data.process(src.data.parse_file(ROOT + '/data/raw/' + FASTA_FILENAME))\n",
    "\n",
    "dataset_signalp_type_splits = {}\n",
    "\n",
    "for sequence_type in model_config.select_encoding_type.keys():\n",
    "    dataset_signalp = src.data.create_datasets(\n",
    "        splits=model_config.splits,\n",
    "        tokenizer=t5_tokenizer,\n",
    "        data=df_data,\n",
    "        annotations_name=annotations_name,\n",
    "        dataset_size=model_config.dataset_size,\n",
    "        sequence_type=sequence_type\n",
    "        )\n",
    "    dataset_signalp_type_splits.update({sequence_type: dataset_signalp})\n",
    "\n",
    "del df_data\n",
    "\n",
    "dataset_signalp = dataset_signalp_type_splits[EXPERT]\n",
    "print(EXPERT)\n",
    "# print(dataset_signalp_type_splits)\n",
    "print(dataset_signalp)"
   ]
  },
  {
   "cell_type": "code",
   "execution_count": null,
   "metadata": {},
   "outputs": [],
   "source": [
    "t5_base_model = ProstT5EncoderModelTokenClassificationCRF.from_pretrained(\n",
    "    pretrained_model_name_or_path=model_config.base_model_name,\n",
    "    device_map='auto',\n",
    "    load_in_8bit=False,\n",
    "    custom_num_labels=len(model_config.select_decoding_type[EXPERT]),\n",
    "    custom_dropout_rate=0.1,\n",
    ")\n",
    "\n",
    "tmp_lin = nn.Linear(\n",
    "    in_features=t5_base_model.config.hidden_size,\n",
    "    out_features=t5_base_model.custom_num_labels\n",
    ")\n",
    "t5_base_model.custom_classifier.weight = tmp_lin.weight\n",
    "t5_base_model.custom_classifier.bias = tmp_lin.bias\n",
    "\n",
    "t5_base_model.crf._constraint_mask = torch.nn.Parameter(t5_base_model.crf.tensor_constraint_mask, requires_grad=False)\n",
    "\n",
    "t5_base_model.crf.reset_parameters()\n",
    "# modules_to_save = ['custom_classifier', 'crf']\n",
    "\n",
    "modules_to_save = ['custom_classifier']\n",
    "\n",
    "lora_config = LoraConfig(\n",
    "    inference_mode=False,\n",
    "    r=8,\n",
    "    lora_alpha=16,\n",
    "    lora_dropout=0.05,\n",
    "    target_modules=['q', 'k', 'v', 'o'],\n",
    "    bias=\"none\",\n",
    "    modules_to_save=modules_to_save,\n",
    ")\n",
    "\n",
    "t5_lora_model = peft.get_peft_model(t5_base_model, lora_config)\n",
    "t5_lora_model.print_trainable_parameters()"
   ]
  },
  {
   "cell_type": "code",
   "execution_count": null,
   "metadata": {},
   "outputs": [],
   "source": [
    "data_collator = DataCollatorForTokenClassification(tokenizer=t5_tokenizer)\n",
    "\n",
    "training_args = TrainingArguments(\n",
    "    output_dir=ROOT+'/models/checkpoints',\n",
    "    learning_rate=model_config.lr,\n",
    "    per_device_train_batch_size=model_config.batch_size,\n",
    "    per_device_eval_batch_size=model_config.batch_size*2,\n",
    "    num_train_epochs=model_config.num_epochs,\n",
    "    logging_steps=model_config.logging_steps,\n",
    "    evaluation_strategy=\"steps\",\n",
    "    eval_steps=model_config.eval_steps,\n",
    "    # weight_decay=0.01,\n",
    "    # gradient_accumulation_steps=accum,\n",
    "    save_strategy=\"steps\",\n",
    "    save_steps=model_config.save_steps,\n",
    "    # save_total_limit=5,\n",
    "    # load_best_model_at_end=True,\n",
    "    # fp16=True,\n",
    "    # deepspeed=deepspeed_config,\n",
    "    remove_unused_columns=False,\n",
    "    label_names=['labels'],\n",
    "    seed=42,\n",
    "    # debug=\"underflow_overflow\",\n",
    ")\n",
    "\n",
    "trainer = Trainer(\n",
    "    model=t5_lora_model,\n",
    "    args=training_args,\n",
    "    train_dataset=dataset_signalp['train'],\n",
    "    eval_dataset=dataset_signalp['valid'],\n",
    "    data_collator=data_collator,\n",
    "    compute_metrics=src.metrics.compute_metrics,\n",
    ")"
   ]
  },
  {
   "cell_type": "code",
   "execution_count": null,
   "metadata": {},
   "outputs": [],
   "source": [
    "initial_validation=trainer.evaluate()\n",
    "added_initial_validation = False\n",
    "print(initial_validation)"
   ]
  },
  {
   "cell_type": "code",
   "execution_count": null,
   "metadata": {},
   "outputs": [],
   "source": [
    "gc.collect()\n",
    "torch.cuda.empty_cache()\n",
    "# torch.mps.empty_cache()\n",
    "\n",
    "trainer.train()"
   ]
  },
  {
   "cell_type": "code",
   "execution_count": null,
   "metadata": {},
   "outputs": [],
   "source": [
    "final_validation=trainer.evaluate()\n",
    "print(final_validation)"
   ]
  },
  {
   "cell_type": "code",
   "execution_count": null,
   "metadata": {},
   "outputs": [],
   "source": [
    "if 'training_log' not in locals():\n",
    "    training_log = pd.DataFrame(trainer.state.log_history)\n",
    "else:\n",
    "    training_log = pd.concat([training_log, pd.DataFrame(trainer.state.log_history)], ignore_index=True)\n",
    "if not added_initial_validation:\n",
    "    added_initial_validation = True\n",
    "    training_log = pd.concat([pd.DataFrame([initial_validation]), training_log], ignore_index=True)\n",
    "display(training_log)"
   ]
  },
  {
   "cell_type": "code",
   "execution_count": null,
   "metadata": {},
   "outputs": [],
   "source": [
    "if 'eval_confusion_matrix' in training_log.columns:\n",
    "    training_log['eval_confusion_matrix'] = training_log['eval_confusion_matrix'].apply(lambda x: x.tolist() if type(x)==np.ndarray else None)\n",
    "t5_lora_model.save_pretrained(ROOT + adapter_location)\n",
    "training_log.to_csv(ROOT + adapter_location + '/training_log.csv', index=False)\n",
    "training_log.to_parquet(ROOT + adapter_location + '/training_log.parquet')"
   ]
  },
  {
   "cell_type": "code",
   "execution_count": null,
   "metadata": {},
   "outputs": [],
   "source": [
    "\n",
    "# training_log = pd.read_parquet(ROOT + f'/models/moe_v{MODEL_VERRSION}_linear_expert_{EXPERT}/training_log.parquet')\n",
    "# adapter_location = f'/models/moe_v{MODEL_VERRSION}_expert_{EXPERT}'\n",
    "training_log = pd.read_parquet(ROOT + adapter_location + '/training_log.parquet')"
   ]
  },
  {
   "cell_type": "code",
   "execution_count": null,
   "metadata": {},
   "outputs": [],
   "source": [
    "src.plot.confusion_matrix_plot(\n",
    "    np.array(training_log['eval_confusion_matrix'][training_log['eval_confusion_matrix'].notnull()].iloc[-1].tolist()),\n",
    "    model_config.select_decoding_type[EXPERT]\n",
    "    )\n",
    "plt.savefig(ROOT + adapter_location + '/fig_cm.jpg', dpi=400)\n",
    "\n",
    "src.plot.loss_plot(training_log)\n",
    "plt.savefig(ROOT + adapter_location + '/fig_loss.jpg', dpi=400)"
   ]
  },
  {
   "cell_type": "code",
   "execution_count": null,
   "metadata": {},
   "outputs": [],
   "source": []
  }
 ],
 "metadata": {
  "kernelspec": {
   "display_name": ".venv",
   "language": "python",
   "name": "python3"
  },
  "language_info": {
   "codemirror_mode": {
    "name": "ipython",
    "version": 3
   },
   "file_extension": ".py",
   "mimetype": "text/x-python",
   "name": "python",
   "nbconvert_exporter": "python",
   "pygments_lexer": "ipython3",
   "version": "3.11.9"
  }
 },
 "nbformat": 4,
 "nbformat_minor": 2
}
