{
 "cells": [
  {
   "cell_type": "code",
   "execution_count": 1,
   "metadata": {},
   "outputs": [],
   "source": [
    "%load_ext autoreload\n",
    "%autoreload 2"
   ]
  },
  {
   "cell_type": "code",
   "execution_count": 2,
   "metadata": {},
   "outputs": [],
   "source": [
    "import src.config as model_config\n",
    "from src.utils import get_project_root_path\n",
    "import src.data\n",
    "import src.metrics\n",
    "\n",
    "from src.model import (\n",
    "    T5EncoderModelForTokenClassification,\n",
    ")\n",
    "\n",
    "import gc\n",
    "import copy\n",
    "import random\n",
    "import tqdm\n",
    "\n",
    "import torch\n",
    "import torch.nn as nn\n",
    "import pandas as pd\n",
    "import numpy as np\n",
    "import seaborn as sns\n",
    "import matplotlib.pyplot as plt\n",
    "\n",
    "from transformers import (\n",
    "    T5Tokenizer,\n",
    "    DataCollatorForTokenClassification,\n",
    "    TrainingArguments,\n",
    "    Trainer,\n",
    "    TrainerCallback\n",
    ")\n",
    "\n",
    "import peft\n",
    "from peft import (\n",
    "    LoraConfig,\n",
    ")"
   ]
  },
  {
   "cell_type": "code",
   "execution_count": 3,
   "metadata": {},
   "outputs": [
    {
     "name": "stdout",
     "output_type": "stream",
     "text": [
      "Base Model:\t Rostlab/ProstT5\n",
      "MPS Availible:\t True\n",
      "Path:\t\t /Users/finnlueth/Developer/gits/SignalGPT\n",
      "Using device:\t mps\n"
     ]
    }
   ],
   "source": [
    "ROOT = get_project_root_path()\n",
    "device = torch.device('cuda:0' if torch.cuda.is_available() else ('mps' if torch.backends.mps.is_available() else 'cpu'))\n",
    "\n",
    "USE_CRF = model_config.use_crf\n",
    "\n",
    "EXPERT = model_config.selected_expert\n",
    "MODEL_VERRSION = model_config.model_version\n",
    "\n",
    "adapter_location = f'/models/moe_v{MODEL_VERRSION}_linear_expert_{EXPERT}'\n",
    "\n",
    "SEED = model_config.seed\n",
    "torch.manual_seed(SEED)\n",
    "random.seed(SEED)\n",
    "np.random.seed(SEED)\n",
    "\n",
    "print(\"Base Model:\\t\", model_config.base_model_name)\n",
    "print(\"MPS Availible:\\t\", torch.backends.mps.is_available())\n",
    "print(\"Path:\\t\\t\", ROOT)\n",
    "print(f\"Using device:\\t {device}\")"
   ]
  },
  {
   "cell_type": "code",
   "execution_count": 4,
   "metadata": {},
   "outputs": [
    {
     "name": "stderr",
     "output_type": "stream",
     "text": [
      "Special tokens have been added in the vocabulary, make sure the associated word embeddings are fine-tuned or trained.\n"
     ]
    }
   ],
   "source": [
    "t5_tokenizer = T5Tokenizer.from_pretrained(\n",
    "    pretrained_model_name_or_path=model_config.base_model_name,\n",
    "    do_lower_case=False,\n",
    "    use_fast=True,\n",
    "    legacy=False,\n",
    ")"
   ]
  },
  {
   "cell_type": "code",
   "execution_count": 5,
   "metadata": {},
   "outputs": [
    {
     "data": {
      "text/plain": [
       "dict_keys(['ALL', 'NO_SP', 'SP', 'LIPO', 'TAT'])"
      ]
     },
     "execution_count": 5,
     "metadata": {},
     "output_type": "execute_result"
    }
   ],
   "source": [
    "model_config.select_encoding_type.keys()"
   ]
  },
  {
   "cell_type": "code",
   "execution_count": 6,
   "metadata": {},
   "outputs": [],
   "source": [
    "# df_data = src.data.process(src.data.parse_file(ROOT + '/data/raw/' + model_config.dataset_name))\n",
    "# df_data['Label'].apply(lambda x: len(x)).describe()"
   ]
  },
  {
   "cell_type": "code",
   "execution_count": 7,
   "metadata": {},
   "outputs": [],
   "source": [
    "# FASTA_FILENAME = model_config.dataset_name\n",
    "FASTA_FILENAME = '6_SignalP_6.0_Training_set_testing.fasta'\n",
    "annotations_name = ['Label'] #+ ['Type'] # Choose Type or Label\n",
    "\n",
    "df_data = src.data.process(src.data.parse_file(ROOT + '/data/raw/' + FASTA_FILENAME))\n",
    "\n",
    "dataset_signalp_type_splits = {}\n",
    "\n",
    "for sequence_type in model_config.select_encoding_type.keys():\n",
    "    dataset_signalp = src.data.create_datasets(\n",
    "        splits=model_config.splits,\n",
    "        tokenizer=t5_tokenizer,\n",
    "        data=df_data,\n",
    "        annotations_name=annotations_name,\n",
    "        dataset_size=model_config.dataset_size,\n",
    "        sequence_type=sequence_type\n",
    "        )\n",
    "    dataset_signalp_type_splits.update({sequence_type: dataset_signalp})\n",
    "\n",
    "del df_data"
   ]
  },
  {
   "cell_type": "code",
   "execution_count": 8,
   "metadata": {},
   "outputs": [
    {
     "name": "stdout",
     "output_type": "stream",
     "text": [
      "ALL\n",
      "DatasetDict({\n",
      "    train: Dataset({\n",
      "        features: ['input_ids', 'attention_mask', 'labels'],\n",
      "        num_rows: 6\n",
      "    })\n",
      "    valid: Dataset({\n",
      "        features: ['input_ids', 'attention_mask', 'labels'],\n",
      "        num_rows: 3\n",
      "    })\n",
      "})\n"
     ]
    }
   ],
   "source": [
    "dataset_signalp = dataset_signalp_type_splits[EXPERT]\n",
    "print(EXPERT)\n",
    "# print(dataset_signalp_type_splits)\n",
    "print(dataset_signalp)"
   ]
  },
  {
   "cell_type": "code",
   "execution_count": 9,
   "metadata": {},
   "outputs": [],
   "source": [
    "# index = 1\n",
    "# print(len(dataset_signalp['train']['input_ids'][index]), dataset_signalp['train']['input_ids'][index])\n",
    "# print(len(dataset_signalp['train']['labels'][index]), dataset_signalp['train']['labels'][index])\n",
    "# print(len(dataset_signalp['train']['attention_mask'][index]), dataset_signalp['train']['attention_mask'][index])"
   ]
  },
  {
   "cell_type": "code",
   "execution_count": 10,
   "metadata": {},
   "outputs": [],
   "source": [
    "# for x in range(3):\n",
    "#     print(len(dataset_signalp['valid'][x]['labels']))\n",
    "#     print(*dataset_signalp['valid'][x]['labels'])"
   ]
  },
  {
   "cell_type": "code",
   "execution_count": 11,
   "metadata": {},
   "outputs": [
    {
     "name": "stderr",
     "output_type": "stream",
     "text": [
      "/Users/finnlueth/Developer/gits/SignalGPT/.venv/lib/python3.11/site-packages/torch/_utils.py:776: UserWarning: TypedStorage is deprecated. It will be removed in the future and UntypedStorage will be the only storage class. This should only matter to you if you are using storages directly.  To access UntypedStorage directly, use tensor.untyped_storage() instead of tensor.storage()\n",
      "  return self.fget.__get__(instance, owner)()\n",
      "Some weights of T5EncoderModelForTokenClassification were not initialized from the model checkpoint at Rostlab/ProstT5 and are newly initialized: ['crf._constraint_mask', 'crf.end_transitions', 'crf.start_transitions', 'crf.transitions', 'custom_classifier.bias', 'custom_classifier.weight']\n",
      "You should probably TRAIN this model on a down-stream task to be able to use it for predictions and inference.\n"
     ]
    },
    {
     "name": "stdout",
     "output_type": "stream",
     "text": [
      "trainable params: 3,946,798 || all params: 1,212,111,150 || trainable%: 0.3256135379993823\n"
     ]
    }
   ],
   "source": [
    "t5_base_model = T5EncoderModelForTokenClassification.from_pretrained(\n",
    "    pretrained_model_name_or_path=model_config.base_model_name,\n",
    "    device_map='auto',\n",
    "    load_in_8bit=False,\n",
    "    custom_num_labels=len(model_config.select_decoding_type[EXPERT]),\n",
    "    custom_dropout_rate=0.1,\n",
    "    use_crf=USE_CRF,\n",
    ")\n",
    "\n",
    "tmp_lin = nn.Linear(\n",
    "    in_features=t5_base_model.config.hidden_size,\n",
    "    out_features=t5_base_model.custom_num_labels\n",
    ")\n",
    "t5_base_model.custom_classifier.weight = tmp_lin.weight\n",
    "t5_base_model.custom_classifier.bias = tmp_lin.bias\n",
    "\n",
    "t5_base_model.crf._constraint_mask = torch.nn.Parameter(t5_base_model.crf.tensor_constraint_mask, requires_grad=False)\n",
    "\n",
    "if USE_CRF:\n",
    "    t5_base_model.crf.reset_parameters()\n",
    "    modules_to_save = ['custom_classifier', 'crf']\n",
    "else:\n",
    "    modules_to_save = ['custom_classifier']\n",
    "\n",
    "lora_config = LoraConfig(\n",
    "    inference_mode=False,\n",
    "    r=8,\n",
    "    lora_alpha=16,\n",
    "    lora_dropout=0.05,\n",
    "    target_modules=['q', 'k', 'v', 'o'],\n",
    "    bias=\"none\",\n",
    "    modules_to_save=modules_to_save,\n",
    ")\n",
    "\n",
    "t5_lora_model = peft.get_peft_model(t5_base_model, lora_config)\n",
    "t5_lora_model.print_trainable_parameters()"
   ]
  },
  {
   "cell_type": "code",
   "execution_count": 12,
   "metadata": {},
   "outputs": [],
   "source": [
    "crf = src.model.ConditionalRandomField(\n",
    "                num_tags=7,\n",
    "                constraints=src.config.allowed_transitions_encoded,\n",
    "                )"
   ]
  },
  {
   "cell_type": "code",
   "execution_count": 13,
   "metadata": {},
   "outputs": [],
   "source": [
    "aaa = torch.nn.Parameter(torch.tensor([[1., 0., 1., 0., 0., 0., 0., 0., 1.],\n",
    "        [0., 1., 0., 1., 0., 0., 0., 0., 0.],\n",
    "        [1., 0., 1., 1., 0., 0., 0., 0., 1.],\n",
    "        [0., 0., 1., 1., 0., 0., 0., 0., 1.],\n",
    "        [0., 0., 0., 1., 1., 0., 0., 0., 0.],\n",
    "        [0., 0., 0., 1., 0., 1., 0., 0., 0.],\n",
    "        [0., 0., 0., 1., 0., 0., 1., 0., 0.],\n",
    "        [1., 1., 0., 1., 1., 1., 1., 0., 0.],\n",
    "        [0., 0., 0., 0., 0., 0., 0., 0., 0.]]), requires_grad=False)"
   ]
  },
  {
   "cell_type": "code",
   "execution_count": 21,
   "metadata": {},
   "outputs": [
    {
     "data": {
      "text/plain": [
       "(Parameter containing:\n",
       " tensor([[1., 0., 1., 0., 0., 0., 0., 0., 1.],\n",
       "         [0., 1., 0., 1., 0., 0., 0., 0., 0.],\n",
       "         [1., 0., 1., 1., 0., 0., 0., 0., 1.],\n",
       "         [0., 0., 1., 1., 0., 0., 0., 0., 1.],\n",
       "         [0., 0., 0., 1., 1., 0., 0., 0., 0.],\n",
       "         [0., 0., 0., 1., 0., 1., 0., 0., 0.],\n",
       "         [0., 0., 0., 1., 0., 0., 1., 0., 0.],\n",
       "         [1., 1., 0., 1., 1., 1., 1., 0., 0.],\n",
       "         [0., 0., 0., 0., 0., 0., 0., 0., 0.]], device='mps:0',\n",
       "        requires_grad=True),\n",
       " Parameter containing:\n",
       " tensor([[1., 0., 1., 0., 0., 0., 0., 0., 1.],\n",
       "         [0., 1., 0., 1., 0., 0., 0., 0., 0.],\n",
       "         [1., 0., 1., 1., 0., 0., 0., 0., 1.],\n",
       "         [0., 0., 1., 1., 0., 0., 0., 0., 1.],\n",
       "         [0., 0., 0., 1., 1., 0., 0., 0., 0.],\n",
       "         [0., 0., 0., 1., 0., 1., 0., 0., 0.],\n",
       "         [0., 0., 0., 1., 0., 0., 1., 0., 0.],\n",
       "         [1., 1., 0., 1., 1., 1., 1., 0., 0.],\n",
       "         [0., 0., 0., 0., 0., 0., 0., 0., 0.]], device='mps:0',\n",
       "        requires_grad=True))"
      ]
     },
     "execution_count": 21,
     "metadata": {},
     "output_type": "execute_result"
    }
   ],
   "source": [
    "t5_base_model.crf.original_module._constraint_mask, t5_base_model.crf.original_module.tensor_constraint_mask"
   ]
  },
  {
   "cell_type": "code",
   "execution_count": 22,
   "metadata": {},
   "outputs": [
    {
     "data": {
      "text/plain": [
       "(Parameter containing:\n",
       " tensor([[1., 0., 1., 0., 0., 0., 0., 0., 1.],\n",
       "         [0., 1., 0., 1., 0., 0., 0., 0., 0.],\n",
       "         [1., 0., 1., 1., 0., 0., 0., 0., 1.],\n",
       "         [0., 0., 1., 1., 0., 0., 0., 0., 1.],\n",
       "         [0., 0., 0., 1., 1., 0., 0., 0., 0.],\n",
       "         [0., 0., 0., 1., 0., 1., 0., 0., 0.],\n",
       "         [0., 0., 0., 1., 0., 0., 1., 0., 0.],\n",
       "         [1., 1., 0., 1., 1., 1., 1., 0., 0.],\n",
       "         [0., 0., 0., 0., 0., 0., 0., 0., 0.]], device='mps:0',\n",
       "        requires_grad=True),\n",
       " tensor([[1., 0., 1., 0., 0., 0., 0., 0., 1.],\n",
       "         [0., 1., 0., 1., 0., 0., 0., 0., 0.],\n",
       "         [1., 0., 1., 1., 0., 0., 0., 0., 1.],\n",
       "         [0., 0., 1., 1., 0., 0., 0., 0., 1.],\n",
       "         [0., 0., 0., 1., 1., 0., 0., 0., 0.],\n",
       "         [0., 0., 0., 1., 0., 1., 0., 0., 0.],\n",
       "         [0., 0., 0., 1., 0., 0., 1., 0., 0.],\n",
       "         [1., 1., 0., 1., 1., 1., 1., 0., 0.],\n",
       "         [0., 0., 0., 0., 0., 0., 0., 0., 0.]]))"
      ]
     },
     "execution_count": 22,
     "metadata": {},
     "output_type": "execute_result"
    }
   ],
   "source": [
    "t5_base_model.crf.modules_to_save.default._constraint_mask, t5_base_model.crf.modules_to_save.default.tensor_constraint_mask"
   ]
  },
  {
   "cell_type": "code",
   "execution_count": 16,
   "metadata": {},
   "outputs": [],
   "source": [
    "data_collator = DataCollatorForTokenClassification(tokenizer=t5_tokenizer)\n",
    "\n",
    "training_args = TrainingArguments(\n",
    "    output_dir=ROOT+'/models/checkpoints',\n",
    "    learning_rate=model_config.lr,\n",
    "    per_device_train_batch_size=model_config.batch_size,\n",
    "    per_device_eval_batch_size=model_config.batch_size,\n",
    "    num_train_epochs=model_config.num_epochs,\n",
    "    logging_steps=model_config.logging_steps,\n",
    "    evaluation_strategy=\"steps\",\n",
    "    eval_steps=model_config.eval_steps,\n",
    "    # weight_decay=0.01,\n",
    "    # gradient_accumulation_steps=accum,\n",
    "    save_strategy=\"steps\",\n",
    "    save_steps=model_config.save_steps,\n",
    "    # save_total_limit=5,\n",
    "    # load_best_model_at_end=True,\n",
    "    # fp16=True,\n",
    "    # deepspeed=deepspeed_config,\n",
    "    remove_unused_columns=False,\n",
    "    label_names=['labels'],\n",
    "    seed=42,\n",
    "    # debug=\"underflow_overflow\",\n",
    ")\n",
    "\n",
    "trainer = Trainer(\n",
    "    model=t5_lora_model,\n",
    "    args=training_args,\n",
    "    train_dataset=dataset_signalp['train'],\n",
    "    eval_dataset=dataset_signalp['valid'],\n",
    "    data_collator=data_collator,\n",
    "    compute_metrics=src.metrics.compute_metrics,\n",
    ")"
   ]
  },
  {
   "cell_type": "code",
   "execution_count": 19,
   "metadata": {},
   "outputs": [
    {
     "name": "stderr",
     "output_type": "stream",
     "text": [
      "loc(\"cast\"(\"(mpsFileLoc): /AppleInternal/Library/BuildRoots/4e1473ee-9f66-11ee-8daf-cedaeb4cabe2/Library/Caches/com.apple.xbs/Sources/MetalPerformanceShadersGraph/mpsgraph/MetalPerformanceShadersGraph/Core/Files/MPSGraphUtilities.mm\":745:0)): error: 'anec.gain_offset_control' op result #0 must be 4D/5D memref of 16-bit float or 8-bit signed integer or 8-bit unsigned integer values, but got 'memref<1x3x1x70xi1>'\n"
     ]
    },
    {
     "data": {
      "application/vnd.jupyter.widget-view+json": {
       "model_id": "53db35dffa454162acc68be5c7787a50",
       "version_major": 2,
       "version_minor": 0
      },
      "text/plain": [
       "  0%|          | 0/1 [00:00<?, ?it/s]"
      ]
     },
     "metadata": {},
     "output_type": "display_data"
    },
    {
     "name": "stdout",
     "output_type": "stream",
     "text": [
      "{'eval_loss': 0.4429473578929901, 'eval_accuracy_metric': 0.12560386473429952, 'eval_precision_metric': 0.12560386473429952, 'eval_recall_metric': 0.12560386473429952, 'eval_f1_metric': 0.12560386473429952, 'eval_matthews_correlation': -0.00443142609272187, 'eval_confusion_matrix': array([[ 0, 12,  1,  6, 14, 12,  3],\n",
      "       [ 0,  0,  2,  2, 13,  0,  0],\n",
      "       [ 0,  0,  0,  0,  0,  0,  0],\n",
      "       [12, 12,  3, 25, 19, 20,  6],\n",
      "       [ 0,  0,  0,  0,  0,  0,  0],\n",
      "       [ 0,  1,  2,  6, 14,  1,  0],\n",
      "       [ 0,  0,  0,  0,  0,  0,  0]]), 'eval_runtime': 24.9334, 'eval_samples_per_second': 0.12, 'eval_steps_per_second': 0.04}\n"
     ]
    }
   ],
   "source": [
    "initial_validation=trainer.evaluate()\n",
    "added_initial_validation = False\n",
    "print(initial_validation)"
   ]
  },
  {
   "cell_type": "code",
   "execution_count": null,
   "metadata": {},
   "outputs": [],
   "source": [
    "gc.collect()\n",
    "torch.cuda.empty_cache()\n",
    "# torch.mps.empty_cache()\n",
    "\n",
    "trainer.train()"
   ]
  },
  {
   "cell_type": "code",
   "execution_count": null,
   "metadata": {},
   "outputs": [],
   "source": [
    "final_validation=trainer.evaluate()\n",
    "print(final_validation)"
   ]
  },
  {
   "cell_type": "code",
   "execution_count": null,
   "metadata": {},
   "outputs": [],
   "source": [
    "if 'training_log' not in locals():\n",
    "    training_log = pd.DataFrame(trainer.state.log_history)\n",
    "else:\n",
    "    training_log = pd.concat([training_log, pd.DataFrame(trainer.state.log_history)], ignore_index=True)\n",
    "if not added_initial_validation:\n",
    "    added_initial_validation = True\n",
    "    training_log = pd.concat([pd.DataFrame([initial_validation]), training_log], ignore_index=True)\n",
    "display(training_log)"
   ]
  },
  {
   "cell_type": "code",
   "execution_count": null,
   "metadata": {},
   "outputs": [],
   "source": [
    "if 'eval_confusion_matrix' in training_log.columns:\n",
    "    training_log['eval_confusion_matrix'] = training_log['eval_confusion_matrix'].apply(lambda x: x.tolist() if type(x)==np.ndarray else None)\n",
    "t5_lora_model.save_pretrained(ROOT + adapter_location)\n",
    "training_log.to_csv(ROOT + adapter_location + '/training_log.csv', index=False)\n",
    "training_log.to_parquet(ROOT + adapter_location + '/training_log.parquet')"
   ]
  },
  {
   "cell_type": "markdown",
   "metadata": {},
   "source": [
    "---"
   ]
  },
  {
   "cell_type": "code",
   "execution_count": null,
   "metadata": {},
   "outputs": [],
   "source": [
    "\n",
    "# training_log = pd.read_parquet(ROOT + f'/models/moe_v{MODEL_VERRSION}_linear_expert_{EXPERT}/training_log.parquet')\n",
    "# adapter_location = f'/models/moe_v{MODEL_VERRSION}_expert_{EXPERT}'\n",
    "training_log = pd.read_parquet(ROOT + adapter_location + '/training_log.parquet')"
   ]
  },
  {
   "cell_type": "code",
   "execution_count": null,
   "metadata": {},
   "outputs": [],
   "source": [
    "src.model_new.confusion_matrix_plot(\n",
    "    np.array(training_log['eval_confusion_matrix'][training_log['eval_confusion_matrix'].notnull()].iloc[-1].tolist()),\n",
    "    model_config.select_decoding_type[EXPERT]\n",
    "    )\n",
    "plt.savefig(ROOT + adapter_location + '/fig_cm.jpg', dpi=400)\n",
    "\n",
    "src.model_new.loss_plot(training_log)\n",
    "plt.savefig(ROOT + adapter_location + '/fig_loss.jpg', dpi=400)"
   ]
  },
  {
   "cell_type": "markdown",
   "metadata": {},
   "source": [
    "---"
   ]
  },
  {
   "cell_type": "code",
   "execution_count": null,
   "metadata": {},
   "outputs": [],
   "source": [
    "# [x for x in t5_lora_model.custom_classifier.modules_to_save.default.named_parameters()]"
   ]
  },
  {
   "cell_type": "code",
   "execution_count": null,
   "metadata": {},
   "outputs": [],
   "source": [
    "# display(pd.Series([item for row in dataset_signalp['train']['labels'] for item in row]).value_counts())\n",
    "# display(pd.Series([item for row in dataset_signalp['valid']['labels'] for item in row]).value_counts())\n",
    "# display(pd.Series([item for row in dataset_signalp['test']['labels'] for item in row]).value_counts())\n",
    "\n",
    "# src.model_new.make_confusion_matrix(\n",
    "#     training_log['eval_confusion_matrix'].iloc[-1],\n",
    "#     model_config.select_decoding_type[EXPERT])"
   ]
  },
  {
   "cell_type": "code",
   "execution_count": null,
   "metadata": {},
   "outputs": [],
   "source": [
    "# _ds_index = 3250\n",
    "# _ds_index = 3250\n",
    "# _ds_type = 'test'\n",
    "# USE_CRF = False\n",
    "\n",
    "# _input_ids_test = t5_tokenizer.decode(dataset_signalp[_ds_type][_ds_index]['input_ids'][:-1])\n",
    "# _labels_test = torch.tensor([dataset_signalp[_ds_type][_ds_index]['labels'] + [-100]]).to(device)\n",
    "# _attention_mask_test = torch.tensor([dataset_signalp[_ds_type][_ds_index]['attention_mask']]).to(device)\n",
    "\n",
    "# _labels_test_decoded = [model_config.label_decoding[x] for x in _labels_test.tolist()[0][:-1]]\n",
    "\n",
    "# print('Iput IDs:\\t', _input_ids_test)\n",
    "# print('Labels:\\t\\t', *_labels_test.tolist()[0])\n",
    "# print('Labels Decoded:\\t', *_labels_test_decoded)\n",
    "# print('Attention Mask:\\t', *_attention_mask_test.tolist()[0])\n",
    "# print('----')\n",
    "\n",
    "# preds = src.model_new.predict_model(\n",
    "#     sequence=_input_ids_test,\n",
    "#     tokenizer=t5_tokenizer,\n",
    "#     model=t5_lora_model,\n",
    "#     labels=_labels_test,\n",
    "#     attention_mask=_attention_mask_test,\n",
    "#     device=device,\n",
    "#     viterbi_decoding=USE_CRF,\n",
    "#     )\n",
    "\n",
    "# _result = src.model_new.translate_logits(\n",
    "#     logits=preds.logits,\n",
    "#     viterbi_decoding=USE_CRF,\n",
    "#     decoding=model_config.label_decoding\n",
    "#     )\n",
    "\n",
    "# print('Result: \\t',* _result)"
   ]
  },
  {
   "cell_type": "code",
   "execution_count": null,
   "metadata": {},
   "outputs": [],
   "source": []
  }
 ],
 "metadata": {
  "kernelspec": {
   "display_name": ".venv",
   "language": "python",
   "name": "python3"
  },
  "language_info": {
   "codemirror_mode": {
    "name": "ipython",
    "version": 3
   },
   "file_extension": ".py",
   "mimetype": "text/x-python",
   "name": "python",
   "nbconvert_exporter": "python",
   "pygments_lexer": "ipython3",
   "version": "3.11.6"
  }
 },
 "nbformat": 4,
 "nbformat_minor": 2
}
