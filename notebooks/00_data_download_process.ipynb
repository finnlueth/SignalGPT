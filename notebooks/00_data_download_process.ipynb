{
 "cells": [
  {
   "cell_type": "code",
   "execution_count": 2,
   "metadata": {},
   "outputs": [],
   "source": [
    "%load_ext autoreload\n",
    "%autoreload 2"
   ]
  },
  {
   "cell_type": "code",
   "execution_count": 1,
   "metadata": {},
   "outputs": [],
   "source": [
    "from src import (\n",
    "    config,\n",
    "    data,\n",
    "    utils)\n",
    "\n",
    "import src.config\n",
    "import os"
   ]
  },
  {
   "cell_type": "code",
   "execution_count": 3,
   "metadata": {},
   "outputs": [],
   "source": [
    "FILENAME = src.config.dataset_name\n",
    "ROOT = utils.get_project_root_path()\n",
    "VERBOSE = config.VERBOSE\n",
    "RAW_PATH = src.config.raw_dataset_path\n",
    "PROCESSED_PATH = src.config.processed_dataset_path\n",
    "OUT_NAME = src.config.data_name"
   ]
  },
  {
   "cell_type": "code",
   "execution_count": 4,
   "metadata": {},
   "outputs": [],
   "source": [
    "if not os.path.exists(ROOT + RAW_PATH):\n",
    "    os.makedirs(ROOT + RAW_PATH)\n",
    "\n",
    "if not os.path.exists(ROOT + PROCESSED_PATH):\n",
    "    os.makedirs(ROOT + PROCESSED_PATH)"
   ]
  },
  {
   "cell_type": "code",
   "execution_count": 5,
   "metadata": {},
   "outputs": [
    {
     "name": "stdout",
     "output_type": "stream",
     "text": [
      "File downloaded successfully to '/home/ec2-user/SignalGPT/data/raw/'.\n",
      "File downloaded successfully to '/home/ec2-user/SignalGPT/data/raw/'.\n",
      "File downloaded successfully to '/home/ec2-user/SignalGPT/data/raw/'.\n",
      "File downloaded successfully to '/home/ec2-user/SignalGPT/data/raw/'.\n"
     ]
    }
   ],
   "source": [
    "file_paths = [ROOT + RAW_PATH + name for name in src.config.urls.keys()]\n",
    "file_exists = [os.path.exists(file_path) for file_path in file_paths]\n",
    "\n",
    "if not file_exists.count(True) == len(file_exists):\n",
    "    src.data.download_all(ROOT + RAW_PATH, src.config.urls)"
   ]
  },
  {
   "cell_type": "code",
   "execution_count": 6,
   "metadata": {},
   "outputs": [],
   "source": [
    "df_data = data.parse_file(ROOT + RAW_PATH + FILENAME)\n",
    "df_data.to_parquet(ROOT + PROCESSED_PATH + f'{OUT_NAME}_unprocessed.parquet.gzip', compression='gzip')"
   ]
  },
  {
   "cell_type": "code",
   "execution_count": 7,
   "metadata": {},
   "outputs": [
    {
     "data": {
      "text/html": [
       "<div>\n",
       "<style scoped>\n",
       "    .dataframe tbody tr th:only-of-type {\n",
       "        vertical-align: middle;\n",
       "    }\n",
       "\n",
       "    .dataframe tbody tr th {\n",
       "        vertical-align: top;\n",
       "    }\n",
       "\n",
       "    .dataframe thead th {\n",
       "        text-align: right;\n",
       "    }\n",
       "</style>\n",
       "<table border=\"1\" class=\"dataframe\">\n",
       "  <thead>\n",
       "    <tr style=\"text-align: right;\">\n",
       "      <th></th>\n",
       "      <th>Uniprot_AC</th>\n",
       "      <th>Kingdom</th>\n",
       "      <th>Type</th>\n",
       "      <th>Partition_No</th>\n",
       "      <th>Sequence</th>\n",
       "      <th>Label</th>\n",
       "    </tr>\n",
       "  </thead>\n",
       "  <tbody>\n",
       "    <tr>\n",
       "      <th>0</th>\n",
       "      <td>Q8TF40</td>\n",
       "      <td>EUKARYA</td>\n",
       "      <td>NO_SP</td>\n",
       "      <td>0</td>\n",
       "      <td>MAPTLFQKLFSKRTGLGAPGRDARDPDCGFSWPLPEFDPSQIRLIV...</td>\n",
       "      <td>IIIIIIIIIIIIIIIIIIIIIIIIIIIIIIIIIIIIIIIIIIIIII...</td>\n",
       "    </tr>\n",
       "    <tr>\n",
       "      <th>1</th>\n",
       "      <td>Q1ENB6</td>\n",
       "      <td>EUKARYA</td>\n",
       "      <td>NO_SP</td>\n",
       "      <td>1</td>\n",
       "      <td>MDFTSLETTTFEEVVIALGSNVGNRMNNFKEALRLMKDYGISVTRH...</td>\n",
       "      <td>IIIIIIIIIIIIIIIIIIIIIIIIIIIIIIIIIIIIIIIIIIIIII...</td>\n",
       "    </tr>\n",
       "    <tr>\n",
       "      <th>2</th>\n",
       "      <td>P36001</td>\n",
       "      <td>EUKARYA</td>\n",
       "      <td>NO_SP</td>\n",
       "      <td>2</td>\n",
       "      <td>MDDISGRQTLPRINRLLEHVGNPQDSLSILHIAGTNGKETVSKFLT...</td>\n",
       "      <td>IIIIIIIIIIIIIIIIIIIIIIIIIIIIIIIIIIIIIIIIIIIIII...</td>\n",
       "    </tr>\n",
       "    <tr>\n",
       "      <th>3</th>\n",
       "      <td>P55317</td>\n",
       "      <td>EUKARYA</td>\n",
       "      <td>NO_SP</td>\n",
       "      <td>0</td>\n",
       "      <td>MLGTVKMEGHETSDWNSYYADTQEAYSSVPVSNMNSGLGSMNSMNT...</td>\n",
       "      <td>IIIIIIIIIIIIIIIIIIIIIIIIIIIIIIIIIIIIIIIIIIIIII...</td>\n",
       "    </tr>\n",
       "    <tr>\n",
       "      <th>4</th>\n",
       "      <td>P35583</td>\n",
       "      <td>EUKARYA</td>\n",
       "      <td>NO_SP</td>\n",
       "      <td>0</td>\n",
       "      <td>MLGAVKMEGHEPSDWSSYYAEPEGYSSVSNMNAGLGMNGMNTYMSM...</td>\n",
       "      <td>IIIIIIIIIIIIIIIIIIIIIIIIIIIIIIIIIIIIIIIIIIIIII...</td>\n",
       "    </tr>\n",
       "  </tbody>\n",
       "</table>\n",
       "</div>"
      ],
      "text/plain": [
       "  Uniprot_AC  Kingdom   Type Partition_No  \\\n",
       "0     Q8TF40  EUKARYA  NO_SP            0   \n",
       "1     Q1ENB6  EUKARYA  NO_SP            1   \n",
       "2     P36001  EUKARYA  NO_SP            2   \n",
       "3     P55317  EUKARYA  NO_SP            0   \n",
       "4     P35583  EUKARYA  NO_SP            0   \n",
       "\n",
       "                                            Sequence  \\\n",
       "0  MAPTLFQKLFSKRTGLGAPGRDARDPDCGFSWPLPEFDPSQIRLIV...   \n",
       "1  MDFTSLETTTFEEVVIALGSNVGNRMNNFKEALRLMKDYGISVTRH...   \n",
       "2  MDDISGRQTLPRINRLLEHVGNPQDSLSILHIAGTNGKETVSKFLT...   \n",
       "3  MLGTVKMEGHETSDWNSYYADTQEAYSSVPVSNMNSGLGSMNSMNT...   \n",
       "4  MLGAVKMEGHEPSDWSSYYAEPEGYSSVSNMNAGLGMNGMNTYMSM...   \n",
       "\n",
       "                                               Label  \n",
       "0  IIIIIIIIIIIIIIIIIIIIIIIIIIIIIIIIIIIIIIIIIIIIII...  \n",
       "1  IIIIIIIIIIIIIIIIIIIIIIIIIIIIIIIIIIIIIIIIIIIIII...  \n",
       "2  IIIIIIIIIIIIIIIIIIIIIIIIIIIIIIIIIIIIIIIIIIIIII...  \n",
       "3  IIIIIIIIIIIIIIIIIIIIIIIIIIIIIIIIIIIIIIIIIIIIII...  \n",
       "4  IIIIIIIIIIIIIIIIIIIIIIIIIIIIIIIIIIIIIIIIIIIIII...  "
      ]
     },
     "metadata": {},
     "output_type": "display_data"
    }
   ],
   "source": [
    "if VERBOSE:\n",
    "    display(df_data.head())"
   ]
  },
  {
   "cell_type": "code",
   "execution_count": 8,
   "metadata": {},
   "outputs": [],
   "source": [
    "df_data = data.process(df_data)\n",
    "df_data.to_parquet(ROOT + PROCESSED_PATH + f'{OUT_NAME}_processed.parquet.gzip', compression='gzip')"
   ]
  },
  {
   "cell_type": "code",
   "execution_count": 9,
   "metadata": {},
   "outputs": [
    {
     "data": {
      "text/html": [
       "<div>\n",
       "<style scoped>\n",
       "    .dataframe tbody tr th:only-of-type {\n",
       "        vertical-align: middle;\n",
       "    }\n",
       "\n",
       "    .dataframe tbody tr th {\n",
       "        vertical-align: top;\n",
       "    }\n",
       "\n",
       "    .dataframe thead th {\n",
       "        text-align: right;\n",
       "    }\n",
       "</style>\n",
       "<table border=\"1\" class=\"dataframe\">\n",
       "  <thead>\n",
       "    <tr style=\"text-align: right;\">\n",
       "      <th></th>\n",
       "      <th>Uniprot_AC</th>\n",
       "      <th>Kingdom</th>\n",
       "      <th>Type</th>\n",
       "      <th>Partition_No</th>\n",
       "      <th>Sequence</th>\n",
       "      <th>Label</th>\n",
       "    </tr>\n",
       "  </thead>\n",
       "  <tbody>\n",
       "    <tr>\n",
       "      <th>0</th>\n",
       "      <td>Q8TF40</td>\n",
       "      <td>EUKARYA</td>\n",
       "      <td>NO_SP</td>\n",
       "      <td>0</td>\n",
       "      <td>&lt;AA2fold&gt; M A P T L F Q K L F S K R T G L G A ...</td>\n",
       "      <td>IIIIIIIIIIIIIIIIIIIIIIIIIIIIIIIIIIIIIIIIIIIIII...</td>\n",
       "    </tr>\n",
       "    <tr>\n",
       "      <th>1</th>\n",
       "      <td>Q1ENB6</td>\n",
       "      <td>EUKARYA</td>\n",
       "      <td>NO_SP</td>\n",
       "      <td>1</td>\n",
       "      <td>&lt;AA2fold&gt; M D F T S L E T T T F E E V V I A L ...</td>\n",
       "      <td>IIIIIIIIIIIIIIIIIIIIIIIIIIIIIIIIIIIIIIIIIIIIII...</td>\n",
       "    </tr>\n",
       "    <tr>\n",
       "      <th>2</th>\n",
       "      <td>P36001</td>\n",
       "      <td>EUKARYA</td>\n",
       "      <td>NO_SP</td>\n",
       "      <td>2</td>\n",
       "      <td>&lt;AA2fold&gt; M D D I S G R Q T L P R I N R L L E ...</td>\n",
       "      <td>IIIIIIIIIIIIIIIIIIIIIIIIIIIIIIIIIIIIIIIIIIIIII...</td>\n",
       "    </tr>\n",
       "    <tr>\n",
       "      <th>3</th>\n",
       "      <td>P55317</td>\n",
       "      <td>EUKARYA</td>\n",
       "      <td>NO_SP</td>\n",
       "      <td>0</td>\n",
       "      <td>&lt;AA2fold&gt; M L G T V K M E G H E T S D W N S Y ...</td>\n",
       "      <td>IIIIIIIIIIIIIIIIIIIIIIIIIIIIIIIIIIIIIIIIIIIIII...</td>\n",
       "    </tr>\n",
       "    <tr>\n",
       "      <th>4</th>\n",
       "      <td>P35583</td>\n",
       "      <td>EUKARYA</td>\n",
       "      <td>NO_SP</td>\n",
       "      <td>0</td>\n",
       "      <td>&lt;AA2fold&gt; M L G A V K M E G H E P S D W S S Y ...</td>\n",
       "      <td>IIIIIIIIIIIIIIIIIIIIIIIIIIIIIIIIIIIIIIIIIIIIII...</td>\n",
       "    </tr>\n",
       "  </tbody>\n",
       "</table>\n",
       "</div>"
      ],
      "text/plain": [
       "  Uniprot_AC  Kingdom   Type  Partition_No  \\\n",
       "0     Q8TF40  EUKARYA  NO_SP             0   \n",
       "1     Q1ENB6  EUKARYA  NO_SP             1   \n",
       "2     P36001  EUKARYA  NO_SP             2   \n",
       "3     P55317  EUKARYA  NO_SP             0   \n",
       "4     P35583  EUKARYA  NO_SP             0   \n",
       "\n",
       "                                            Sequence  \\\n",
       "0  <AA2fold> M A P T L F Q K L F S K R T G L G A ...   \n",
       "1  <AA2fold> M D F T S L E T T T F E E V V I A L ...   \n",
       "2  <AA2fold> M D D I S G R Q T L P R I N R L L E ...   \n",
       "3  <AA2fold> M L G T V K M E G H E T S D W N S Y ...   \n",
       "4  <AA2fold> M L G A V K M E G H E P S D W S S Y ...   \n",
       "\n",
       "                                               Label  \n",
       "0  IIIIIIIIIIIIIIIIIIIIIIIIIIIIIIIIIIIIIIIIIIIIII...  \n",
       "1  IIIIIIIIIIIIIIIIIIIIIIIIIIIIIIIIIIIIIIIIIIIIII...  \n",
       "2  IIIIIIIIIIIIIIIIIIIIIIIIIIIIIIIIIIIIIIIIIIIIII...  \n",
       "3  IIIIIIIIIIIIIIIIIIIIIIIIIIIIIIIIIIIIIIIIIIIIII...  \n",
       "4  IIIIIIIIIIIIIIIIIIIIIIIIIIIIIIIIIIIIIIIIIIIIII...  "
      ]
     },
     "metadata": {},
     "output_type": "display_data"
    }
   ],
   "source": [
    "if VERBOSE:\n",
    "    display(df_data.head())"
   ]
  },
  {
   "cell_type": "code",
   "execution_count": null,
   "metadata": {},
   "outputs": [],
   "source": []
  }
 ],
 "metadata": {
  "kernelspec": {
   "display_name": ".venv",
   "language": "python",
   "name": "python3"
  },
  "language_info": {
   "codemirror_mode": {
    "name": "ipython",
    "version": 3
   },
   "file_extension": ".py",
   "mimetype": "text/x-python",
   "name": "python",
   "nbconvert_exporter": "python",
   "pygments_lexer": "ipython3",
   "version": "3.11.6"
  }
 },
 "nbformat": 4,
 "nbformat_minor": 2
}
