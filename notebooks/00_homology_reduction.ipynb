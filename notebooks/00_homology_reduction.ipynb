{
 "cells": [
  {
   "cell_type": "code",
   "execution_count": 1,
   "metadata": {},
   "outputs": [],
   "source": [
    "import src.config as model_config\n",
    "from src.utils import get_project_root_path\n",
    "import src.data\n",
    "import src.metrics\n",
    "import src.plot\n",
    "\n",
    "from src.model import (\n",
    "    ProstT5EncoderModelForSequenceClassification,\n",
    "    ProstT5EncoderModelTokenClassificationCRF,\n",
    "    ProstT5EncoderModelTokenClassificationLinear,\n",
    "    ProtT5EncoderModelForSequenceClassification,\n",
    "    ProtT5EncoderModelTokenClassificationCRF,\n",
    "    ProtT5EncoderModelTokenClassificationLinear,\n",
    ")\n",
    "\n",
    "import gc\n",
    "import random\n",
    "import tqdm\n",
    "\n",
    "import torch\n",
    "import torch.nn as nn\n",
    "import pandas as pd\n",
    "import numpy as np\n",
    "import matplotlib.pyplot as plt\n",
    "\n",
    "from transformers import (\n",
    "    T5Tokenizer,\n",
    "    DataCollatorForTokenClassification,\n",
    "    TrainingArguments,\n",
    "    Trainer,\n",
    "    TrainerCallback,\n",
    "    set_seed\n",
    ")\n",
    "\n",
    "import peft\n",
    "from peft import (\n",
    "    LoraConfig,\n",
    ")"
   ]
  },
  {
   "cell_type": "code",
   "execution_count": 2,
   "metadata": {},
   "outputs": [
    {
     "name": "stdout",
     "output_type": "stream",
     "text": [
      "Base Model:\t Rostlab/prot_t5_xl_uniref50\n",
      "MPS Availible:\t True\n",
      "Path:\t\t /Users/finnlueth/Developer/gits/SignalGPT\n",
      "Using device:\t mps\n"
     ]
    }
   ],
   "source": [
    "ROOT = get_project_root_path()\n",
    "device = torch.device('cuda:0' if torch.cuda.is_available() else ('mps' if torch.backends.mps.is_available() else 'cpu'))\n",
    "\n",
    "EXPERT = model_config.selected_expert\n",
    "MODEL_VERRSION = model_config.model_version\n",
    "\n",
    "adapter_location = f'/models/moe_v{MODEL_VERRSION}_CRF_expert_{EXPERT}'\n",
    "\n",
    "SEED = model_config.seed\n",
    "torch.manual_seed(SEED)\n",
    "random.seed(SEED)\n",
    "np.random.seed(SEED)\n",
    "set_seed(SEED)\n",
    "\n",
    "print(\"Base Model:\\t\", model_config.base_model_name)\n",
    "print(\"MPS Availible:\\t\", torch.backends.mps.is_available())\n",
    "print(\"Path:\\t\\t\", ROOT)\n",
    "print(f\"Using device:\\t {device}\")"
   ]
  },
  {
   "cell_type": "code",
   "execution_count": 3,
   "metadata": {},
   "outputs": [],
   "source": [
    "t5_tokenizer = T5Tokenizer.from_pretrained(\n",
    "    pretrained_model_name_or_path=model_config.base_model_name,\n",
    "    do_lower_case=False,\n",
    "    use_fast=True,\n",
    "    legacy=False,\n",
    ")"
   ]
  }
 ],
 "metadata": {
  "kernelspec": {
   "display_name": ".venv",
   "language": "python",
   "name": "python3"
  },
  "language_info": {
   "codemirror_mode": {
    "name": "ipython",
    "version": 3
   },
   "file_extension": ".py",
   "mimetype": "text/x-python",
   "name": "python",
   "nbconvert_exporter": "python",
   "pygments_lexer": "ipython3",
   "version": "3.11.9"
  }
 },
 "nbformat": 4,
 "nbformat_minor": 2
}
