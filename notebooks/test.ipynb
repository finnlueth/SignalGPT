{
 "cells": [
  {
   "cell_type": "code",
   "execution_count": 11,
   "metadata": {},
   "outputs": [
    {
     "name": "stdout",
     "output_type": "stream",
     "text": [
      "(250000000^3+3*250000000^2+2*250000000)/6\n",
      "(250000000^3-250000000)/6\n",
      "(250000000^2)-250000000)/2\n",
      "250000000*log(250000000)-n+1\n"
     ]
    }
   ],
   "source": [
    "n = 250000000\n",
    "print(f'({n}^3+3*{n}^2+2*{n})/6')\n",
    "print(f'({n}^3-{n})/6')\n",
    "print(f'({n}^2)-{n})/2')\n",
    "print(f'{n}*log({n})-n+1')"
   ]
  },
  {
   "cell_type": "code",
   "execution_count": 1,
   "metadata": {},
   "outputs": [
    {
     "data": {
      "text/plain": [
       "array([[0, 1, 1, 0, 0],\n",
       "       [1, 0, 0, 0, 0],\n",
       "       [0, 1, 0, 1, 1],\n",
       "       [0, 0, 0, 0, 1],\n",
       "       [0, 1, 0, 1, 0]])"
      ]
     },
     "execution_count": 1,
     "metadata": {},
     "output_type": "execute_result"
    }
   ],
   "source": [
    "import numpy as np\n",
    "\n",
    "mat = np.array([[0, 1, 1, 0, 0], [1, 0, 0, 0, 0], [0, 1, 0, 1, 1], [0, 0, 0, 0, 1], [0, 1, 0, 1, 0]])\n",
    "\n",
    "mat**1000"
   ]
  },
  {
   "cell_type": "code",
   "execution_count": 2,
   "metadata": {},
   "outputs": [
    {
     "data": {
      "text/plain": [
       "array([[0.        , 0.5       , 0.5       , 0.        , 0.        ],\n",
       "       [1.        , 0.        , 0.        , 0.        , 0.        ],\n",
       "       [0.        , 0.33333333, 0.        , 0.33333333, 0.33333333],\n",
       "       [0.        , 0.        , 0.        , 0.        , 1.        ],\n",
       "       [0.        , 0.5       , 0.        , 0.5       , 0.        ]])"
      ]
     },
     "execution_count": 2,
     "metadata": {},
     "output_type": "execute_result"
    }
   ],
   "source": [
    "row_sums = np.sum(mat == 1, axis=1)\n",
    "mat_new = np.where(mat == 1, 1/row_sums[:, np.newaxis], mat)\n",
    "mat_new\n"
   ]
  },
  {
   "cell_type": "code",
   "execution_count": 7,
   "metadata": {},
   "outputs": [
    {
     "data": {
      "text/plain": [
       "array([[0.00000000e+000, 9.33263619e-302, 9.33263619e-302,\n",
       "        0.00000000e+000, 0.00000000e+000],\n",
       "       [1.00000000e+000, 0.00000000e+000, 0.00000000e+000,\n",
       "        0.00000000e+000, 0.00000000e+000],\n",
       "       [0.00000000e+000, 0.00000000e+000, 0.00000000e+000,\n",
       "        0.00000000e+000, 0.00000000e+000],\n",
       "       [0.00000000e+000, 0.00000000e+000, 0.00000000e+000,\n",
       "        0.00000000e+000, 1.00000000e+000],\n",
       "       [0.00000000e+000, 9.33263619e-302, 0.00000000e+000,\n",
       "        9.33263619e-302, 0.00000000e+000]])"
      ]
     },
     "execution_count": 7,
     "metadata": {},
     "output_type": "execute_result"
    }
   ],
   "source": [
    "mat_new**1000"
   ]
  },
  {
   "cell_type": "code",
   "execution_count": 15,
   "metadata": {},
   "outputs": [
    {
     "data": {
      "text/plain": [
       "0.32666666666666666"
      ]
     },
     "execution_count": 15,
     "metadata": {},
     "output_type": "execute_result"
    }
   ],
   "source": [
    "len([x for x in range(1, 150+1) if x % 4 == 0 or x % 9 == 0])/150"
   ]
  },
  {
   "cell_type": "code",
   "execution_count": 13,
   "metadata": {},
   "outputs": [
    {
     "data": {
      "text/plain": [
       "4"
      ]
     },
     "execution_count": 13,
     "metadata": {},
     "output_type": "execute_result"
    }
   ],
   "source": [
    "len([x for x in range(1, 150+1) if x % 4 == 0 and x % 9 == 0])"
   ]
  },
  {
   "cell_type": "code",
   "execution_count": 14,
   "metadata": {},
   "outputs": [
    {
     "data": {
      "text/plain": [
       "0.32666666666666666"
      ]
     },
     "execution_count": 14,
     "metadata": {},
     "output_type": "execute_result"
    }
   ],
   "source": [
    "(16+37-4)/150"
   ]
  },
  {
   "cell_type": "code",
   "execution_count": 22,
   "metadata": {},
   "outputs": [
    {
     "name": "stdout",
     "output_type": "stream",
     "text": [
      "CPU times: user 1e+03 ns, sys: 0 ns, total: 1e+03 ns\n",
      "Wall time: 1.91 µs\n"
     ]
    },
    {
     "data": {
      "text/latex": [
       "$\\displaystyle \\frac{1144106375}{52242776064}$"
      ],
      "text/plain": [
       "1144106375/52242776064"
      ]
     },
     "execution_count": 22,
     "metadata": {},
     "output_type": "execute_result"
    }
   ],
   "source": [
    "%time\n",
    "from sympy import Poly\n",
    "\n",
    "def calc_coeff_xk(n, k):\n",
    "    poly = Poly(x + x**2 + x**3 + x**4 + x**5 + x**6)\n",
    "    poly_n = poly**n\n",
    "    coeff = poly_n.coeff_monomial(x**k)\n",
    "    probability = coeff / 6**n\n",
    "    return probability\n",
    "calc_coeff_xk(15, 62)"
   ]
  },
  {
   "cell_type": "code",
   "execution_count": 34,
   "metadata": {},
   "outputs": [
    {
     "name": "stdout",
     "output_type": "stream",
     "text": [
      "CPU times: user 2 µs, sys: 1e+03 ns, total: 3 µs\n",
      "Wall time: 2.86 µs\n"
     ]
    },
    {
     "data": {
      "text/plain": [
       "0.02189980053124307"
      ]
     },
     "execution_count": 34,
     "metadata": {},
     "output_type": "execute_result"
    }
   ],
   "source": [
    "%time\n",
    "import math\n",
    "\n",
    "def calc_coeff_directly(n, k):\n",
    "    total_coeff = 0\n",
    "    max_i = k // 6\n",
    "    max_j = k\n",
    "    for j in range(max_j+1):\n",
    "        for i in range(max_i+1):\n",
    "            if n + 6*i + j == k:\n",
    "                total_coeff += ((-1)**i) * math.comb(n, i) * math.comb(n + j - 1, j)\n",
    "    probability = total_coeff / 6**n\n",
    "    return probability\n",
    "calc_coeff_directly(15, 62)"
   ]
  },
  {
   "cell_type": "code",
   "execution_count": 25,
   "metadata": {},
   "outputs": [
    {
     "data": {
      "text/plain": [
       "0.02189980053124307"
      ]
     },
     "execution_count": 25,
     "metadata": {},
     "output_type": "execute_result"
    }
   ],
   "source": [
    "1144106375/52242776064"
   ]
  },
  {
   "cell_type": "code",
   "execution_count": null,
   "metadata": {},
   "outputs": [],
   "source": []
  }
 ],
 "metadata": {
  "kernelspec": {
   "display_name": ".venv",
   "language": "python",
   "name": "python3"
  },
  "language_info": {
   "codemirror_mode": {
    "name": "ipython",
    "version": 3
   },
   "file_extension": ".py",
   "mimetype": "text/x-python",
   "name": "python",
   "nbconvert_exporter": "python",
   "pygments_lexer": "ipython3",
   "version": "3.11.11"
  }
 },
 "nbformat": 4,
 "nbformat_minor": 2
}
